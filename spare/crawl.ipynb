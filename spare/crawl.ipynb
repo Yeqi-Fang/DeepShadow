{
 "cells": [
  {
   "cell_type": "code",
   "execution_count": 1,
   "metadata": {},
   "outputs": [],
   "source": [
    "import selenium\n",
    "import time\n",
    "import uuid\n",
    "import time\n",
    "import pandas as pd\n",
    "from PIL import Image\n",
    "from selenium import webdriver\n",
    "from selenium.webdriver.common.action_chains import ActionChains\n",
    "from selenium.webdriver.common.by import By\n",
    "from selenium.webdriver.common.keys import Keys"
   ]
  },
  {
   "cell_type": "code",
   "execution_count": 2,
   "metadata": {},
   "outputs": [
    {
     "ename": "NoSuchWindowException",
     "evalue": "Message: no such window: target window already closed\nfrom unknown error: web view not found\n  (Session info: chrome=120.0.6099.200)\nStacktrace:\n\tGetHandleVerifier [0x00007FF677A62142+3514994]\n\t(No symbol) [0x00007FF677680CE2]\n\t(No symbol) [0x00007FF6775276AA]\n\t(No symbol) [0x00007FF677500AFD]\n\t(No symbol) [0x00007FF67759CB1B]\n\t(No symbol) [0x00007FF6775B218F]\n\t(No symbol) [0x00007FF677595D93]\n\t(No symbol) [0x00007FF677564BDC]\n\t(No symbol) [0x00007FF677565C64]\n\tGetHandleVerifier [0x00007FF677A8E16B+3695259]\n\tGetHandleVerifier [0x00007FF677AE6737+4057191]\n\tGetHandleVerifier [0x00007FF677ADE4E3+4023827]\n\tGetHandleVerifier [0x00007FF6777B04F9+689705]\n\t(No symbol) [0x00007FF67768C048]\n\t(No symbol) [0x00007FF677688044]\n\t(No symbol) [0x00007FF6776881C9]\n\t(No symbol) [0x00007FF6776788C4]\n\tBaseThreadInitThunk [0x00007FFF1D987344+20]\n\tRtlUserThreadStart [0x00007FFF1EFA26B1+33]\n",
     "output_type": "error",
     "traceback": [
      "\u001b[1;31m---------------------------------------------------------------------------\u001b[0m",
      "\u001b[1;31mNoSuchWindowException\u001b[0m                     Traceback (most recent call last)",
      "Cell \u001b[1;32mIn[2], line 7\u001b[0m\n\u001b[0;32m      5\u001b[0m driver\u001b[38;5;241m.\u001b[39mget(\u001b[38;5;124m\"\u001b[39m\u001b[38;5;124mhttps://ebruneton.github.io/black_hole_shader/demo/demo.html\u001b[39m\u001b[38;5;124m\"\u001b[39m)\n\u001b[0;32m      6\u001b[0m \u001b[38;5;66;03m# Maximize the browser window\u001b[39;00m\n\u001b[1;32m----> 7\u001b[0m \u001b[43mdriver\u001b[49m\u001b[38;5;241;43m.\u001b[39;49m\u001b[43mmaximize_window\u001b[49m\u001b[43m(\u001b[49m\u001b[43m)\u001b[49m\n",
      "File \u001b[1;32mc:\\Users\\FYQ\\AppData\\Local\\Programs\\Python\\Python39\\lib\\site-packages\\selenium\\webdriver\\remote\\webdriver.py:500\u001b[0m, in \u001b[0;36mWebDriver.maximize_window\u001b[1;34m(self)\u001b[0m\n\u001b[0;32m    498\u001b[0m \u001b[38;5;250m\u001b[39m\u001b[38;5;124;03m\"\"\"Maximizes the current window that webdriver is using.\"\"\"\u001b[39;00m\n\u001b[0;32m    499\u001b[0m command \u001b[38;5;241m=\u001b[39m Command\u001b[38;5;241m.\u001b[39mW3C_MAXIMIZE_WINDOW\n\u001b[1;32m--> 500\u001b[0m \u001b[38;5;28;43mself\u001b[39;49m\u001b[38;5;241;43m.\u001b[39;49m\u001b[43mexecute\u001b[49m\u001b[43m(\u001b[49m\u001b[43mcommand\u001b[49m\u001b[43m,\u001b[49m\u001b[43m \u001b[49m\u001b[38;5;28;43;01mNone\u001b[39;49;00m\u001b[43m)\u001b[49m\n",
      "File \u001b[1;32mc:\\Users\\FYQ\\AppData\\Local\\Programs\\Python\\Python39\\lib\\site-packages\\selenium\\webdriver\\remote\\webdriver.py:348\u001b[0m, in \u001b[0;36mWebDriver.execute\u001b[1;34m(self, driver_command, params)\u001b[0m\n\u001b[0;32m    346\u001b[0m response \u001b[38;5;241m=\u001b[39m \u001b[38;5;28mself\u001b[39m\u001b[38;5;241m.\u001b[39mcommand_executor\u001b[38;5;241m.\u001b[39mexecute(driver_command, params)\n\u001b[0;32m    347\u001b[0m \u001b[38;5;28;01mif\u001b[39;00m response:\n\u001b[1;32m--> 348\u001b[0m     \u001b[38;5;28;43mself\u001b[39;49m\u001b[38;5;241;43m.\u001b[39;49m\u001b[43merror_handler\u001b[49m\u001b[38;5;241;43m.\u001b[39;49m\u001b[43mcheck_response\u001b[49m\u001b[43m(\u001b[49m\u001b[43mresponse\u001b[49m\u001b[43m)\u001b[49m\n\u001b[0;32m    349\u001b[0m     response[\u001b[38;5;124m\"\u001b[39m\u001b[38;5;124mvalue\u001b[39m\u001b[38;5;124m\"\u001b[39m] \u001b[38;5;241m=\u001b[39m \u001b[38;5;28mself\u001b[39m\u001b[38;5;241m.\u001b[39m_unwrap_value(response\u001b[38;5;241m.\u001b[39mget(\u001b[38;5;124m\"\u001b[39m\u001b[38;5;124mvalue\u001b[39m\u001b[38;5;124m\"\u001b[39m, \u001b[38;5;28;01mNone\u001b[39;00m))\n\u001b[0;32m    350\u001b[0m     \u001b[38;5;28;01mreturn\u001b[39;00m response\n",
      "File \u001b[1;32mc:\\Users\\FYQ\\AppData\\Local\\Programs\\Python\\Python39\\lib\\site-packages\\selenium\\webdriver\\remote\\errorhandler.py:229\u001b[0m, in \u001b[0;36mErrorHandler.check_response\u001b[1;34m(self, response)\u001b[0m\n\u001b[0;32m    227\u001b[0m         alert_text \u001b[38;5;241m=\u001b[39m value[\u001b[38;5;124m\"\u001b[39m\u001b[38;5;124malert\u001b[39m\u001b[38;5;124m\"\u001b[39m]\u001b[38;5;241m.\u001b[39mget(\u001b[38;5;124m\"\u001b[39m\u001b[38;5;124mtext\u001b[39m\u001b[38;5;124m\"\u001b[39m)\n\u001b[0;32m    228\u001b[0m     \u001b[38;5;28;01mraise\u001b[39;00m exception_class(message, screen, stacktrace, alert_text)  \u001b[38;5;66;03m# type: ignore[call-arg]  # mypy is not smart enough here\u001b[39;00m\n\u001b[1;32m--> 229\u001b[0m \u001b[38;5;28;01mraise\u001b[39;00m exception_class(message, screen, stacktrace)\n",
      "\u001b[1;31mNoSuchWindowException\u001b[0m: Message: no such window: target window already closed\nfrom unknown error: web view not found\n  (Session info: chrome=120.0.6099.200)\nStacktrace:\n\tGetHandleVerifier [0x00007FF677A62142+3514994]\n\t(No symbol) [0x00007FF677680CE2]\n\t(No symbol) [0x00007FF6775276AA]\n\t(No symbol) [0x00007FF677500AFD]\n\t(No symbol) [0x00007FF67759CB1B]\n\t(No symbol) [0x00007FF6775B218F]\n\t(No symbol) [0x00007FF677595D93]\n\t(No symbol) [0x00007FF677564BDC]\n\t(No symbol) [0x00007FF677565C64]\n\tGetHandleVerifier [0x00007FF677A8E16B+3695259]\n\tGetHandleVerifier [0x00007FF677AE6737+4057191]\n\tGetHandleVerifier [0x00007FF677ADE4E3+4023827]\n\tGetHandleVerifier [0x00007FF6777B04F9+689705]\n\t(No symbol) [0x00007FF67768C048]\n\t(No symbol) [0x00007FF677688044]\n\t(No symbol) [0x00007FF6776881C9]\n\t(No symbol) [0x00007FF6776788C4]\n\tBaseThreadInitThunk [0x00007FFF1D987344+20]\n\tRtlUserThreadStart [0x00007FFF1EFA26B1+33]\n"
     ]
    }
   ],
   "source": [
    "# Initialize the webdriver\n",
    "driver = webdriver.Chrome()\n",
    "\n",
    "# Open a site\n",
    "driver.get(\"https://ebruneton.github.io/black_hole_shader/demo/demo.html\")\n",
    "# Maximize the browser window\n",
    "driver.maximize_window()\n"
   ]
  },
  {
   "cell_type": "code",
   "execution_count": 14,
   "metadata": {},
   "outputs": [],
   "source": [
    "# Wait for 30 seconds\n",
    "time.sleep(30)"
   ]
  },
  {
   "cell_type": "code",
   "execution_count": 3,
   "metadata": {},
   "outputs": [],
   "source": [
    "substract_button = driver.find_element(By.XPATH, '//*[@id=\"settings_panel\"]/details[1]/div[6]/div[4]/span[1]/button[1]')\n",
    "plus_button = driver.find_element(By.XPATH, '//*[@id=\"settings_panel\"]/details[1]/div[6]/div[4]/span[1]/button[2]')\n",
    "bar = driver.find_element(By.XPATH, '//*[@id=\"sp_orbit_inclination\"]')\n"
   ]
  },
  {
   "cell_type": "code",
   "execution_count": 4,
   "metadata": {},
   "outputs": [],
   "source": [
    "# Create an instance of ActionChains\n",
    "actions = ActionChains(driver)\n",
    "\n",
    "# Move the mouse to the left end of the bar\n",
    "actions.move_to_element(bar).move_by_offset(-63.3, 0).click().perform()\n"
   ]
  },
  {
   "cell_type": "code",
   "execution_count": 5,
   "metadata": {},
   "outputs": [],
   "source": [
    "T = 3467"
   ]
  },
  {
   "cell_type": "code",
   "execution_count": 6,
   "metadata": {},
   "outputs": [
    {
     "name": "stderr",
     "output_type": "stream",
     "text": [
      "C:\\Users\\FYQ\\AppData\\Local\\Temp\\ipykernel_24736\\2183089923.py:26: FutureWarning: The behavior of DataFrame concatenation with empty or all-NA entries is deprecated. In a future version, this will no longer exclude empty or all-NA columns when determining the result dtypes. To retain the old behavior, exclude the relevant entries before the concat operation.\n",
      "  df = pd.concat([df, pd.DataFrame({'Inclination': [inclination], 'PhotoName': [photo_name], 'Temperature': T})], ignore_index=True)\n"
     ]
    }
   ],
   "source": [
    "import pandas as pd\n",
    "from PIL import Image\n",
    "import datetime\n",
    "import uuid\n",
    "# Create an empty dataframe to store the inclination and photo name\n",
    "df = pd.DataFrame(columns=['Inclination', 'PhotoName', 'Temperature'])\n",
    "\n",
    "# Set the initial inclination\n",
    "inclination = -89.6\n",
    "\n",
    "# Set the step size\n",
    "step = 0.1\n",
    "\n",
    "# Loop through the range of inclinations\n",
    "while inclination <= 90:\n",
    "    # Generate a unique hex value\n",
    "    unique_hex = uuid.uuid4().hex\n",
    "    \n",
    "    # Take a screenshot and give it a unique name with current time and hex value\n",
    "    current_time = datetime.datetime.now().strftime(\"%Y%m%d%H%M%S\")\n",
    "    photo_name = f\"./images/{current_time}_{unique_hex}.png\"\n",
    "    driver.save_screenshot(photo_name)\n",
    "    \n",
    "    # Save the inclination and photo name to the dataframe\n",
    "    # df = df.append({'Inclination': inclination, 'PhotoName': photo_name}, ignore_index=True)\n",
    "    df = pd.concat([df, pd.DataFrame({'Inclination': [inclination], 'PhotoName': [photo_name], 'Temperature': T})], ignore_index=True)\n",
    "\n",
    "    # Increment the inclination\n",
    "    inclination += step\n",
    "    plus_button.click()\n",
    "    time.sleep(0.5)\n"
   ]
  },
  {
   "cell_type": "code",
   "execution_count": 7,
   "metadata": {},
   "outputs": [
    {
     "name": "stdout",
     "output_type": "stream",
     "text": [
      "      Inclination                                          PhotoName  \\\n",
      "0           -89.6  ./images/20240109193024_c86d41779667443382a238...   \n",
      "1           -89.5  ./images/20240109193027_be8a091fd0594a76869f75...   \n",
      "2           -89.4  ./images/20240109193030_6b4aba1887cb45a98f7e63...   \n",
      "3           -89.3  ./images/20240109193033_4de045b765864c5f8d757e...   \n",
      "4           -89.2  ./images/20240109193036_e2afb16c99ac47b384c56a...   \n",
      "...           ...                                                ...   \n",
      "1792         89.6  ./images/20240109204436_53e9853d89cc4daeab484f...   \n",
      "1793         89.7  ./images/20240109204438_a91ce96de6ca48069f403d...   \n",
      "1794         89.8  ./images/20240109204439_9aab0aca8f2a4b7f9f4ef5...   \n",
      "1795         89.9  ./images/20240109204441_1f48803e4a5f4f73a0fa84...   \n",
      "1796         90.0  ./images/20240109204442_37b0c06f26b543e4916abd...   \n",
      "\n",
      "     Temperature  \n",
      "0           3467  \n",
      "1           3467  \n",
      "2           3467  \n",
      "3           3467  \n",
      "4           3467  \n",
      "...          ...  \n",
      "1792        3467  \n",
      "1793        3467  \n",
      "1794        3467  \n",
      "1795        3467  \n",
      "1796        3467  \n",
      "\n",
      "[1797 rows x 3 columns]\n"
     ]
    }
   ],
   "source": [
    "# Display the dataframe\n",
    "print(df)"
   ]
  },
  {
   "cell_type": "code",
   "execution_count": 8,
   "metadata": {},
   "outputs": [],
   "source": [
    "# df['Inclination'] = df['Inclination'] + 35.5\n",
    "# df"
   ]
  },
  {
   "cell_type": "code",
   "execution_count": 9,
   "metadata": {},
   "outputs": [],
   "source": [
    "df.to_csv('labels.csv', mode='a', header=False)"
   ]
  },
  {
   "cell_type": "code",
   "execution_count": null,
   "metadata": {},
   "outputs": [],
   "source": []
  }
 ],
 "metadata": {
  "kernelspec": {
   "display_name": "Python 3",
   "language": "python",
   "name": "python3"
  },
  "language_info": {
   "codemirror_mode": {
    "name": "ipython",
    "version": 3
   },
   "file_extension": ".py",
   "mimetype": "text/x-python",
   "name": "python",
   "nbconvert_exporter": "python",
   "pygments_lexer": "ipython3",
   "version": "3.9.8"
  }
 },
 "nbformat": 4,
 "nbformat_minor": 2
}
