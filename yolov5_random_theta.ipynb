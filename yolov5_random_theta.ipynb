{
 "cells": [
  {
   "cell_type": "code",
   "execution_count": 1,
   "metadata": {},
   "outputs": [],
   "source": [
    "import os\n",
    "import json\n",
    "import glob as glob\n",
    "import numpy as np\n",
    "import datetime\n",
    "import utils\n",
    "import shutil\n",
    "import tensorboard\n",
    "import time\n",
    "import cv2\n",
    "import matplotlib.pyplot as plt\n",
    "import subprocess\n",
    "from pathlib import Path\n",
    "import pandas as pd\n",
    "import utils"
   ]
  },
  {
   "cell_type": "code",
   "execution_count": 2,
   "metadata": {},
   "outputs": [],
   "source": [
    "TRAIN = True\n",
    "EPOCHS = 300\n",
    "star = 10\n",
    "BH = 1\n",
    "num_photo = 1000\n",
    "batch_size = 2\n",
    "size = 1024\n",
    "BH_lower = 30\n",
    "BH_upper = 50\n",
    "wl = 100e-9\n",
    "D = 6.5\n",
    "F = 131.4\n",
    "noise_radius = 20"
   ]
  },
  {
   "cell_type": "code",
   "execution_count": 3,
   "metadata": {},
   "outputs": [],
   "source": [
    "now = datetime.datetime.now()\n",
    "date_string = now.strftime(\"%Y-%m-%d_%H-%M-%S\")\n",
    "os.mkdir(f'logs_yolo_stellar/yolov5-{date_string}')\n",
    "curr_dir = Path(f'logs_yolo_stellar/yolov5-{date_string}')\n",
    "np.random.seed(2024)\n",
    "\n",
    "# try:\n",
    "t1 = time.perf_counter()\n",
    "data_dir = 'tele_datasets/mixed'\n",
    "\n",
    "RES_DIR = utils.set_res_dir(TRAIN=TRAIN)\n",
    "# yolov5s.pt\n",
    "yaml = os.path.join(data_dir, 'data.yaml')\n",
    "if TRAIN:\n",
    "    subprocess.run(f'python train.py --data ../{yaml} --weights yolov5s.pt --img {size} --epochs {EPOCHS} '\n",
    "                f'--batch-size {batch_size} --name {RES_DIR} --cache', cwd='yolov5')\n",
    "else:\n",
    "    subprocess.run(f'python train.py --weights yolov5s.pt --data ../{yaml} --img {size}'\n",
    "                f'--batch-size {batch_size} --name {RES_DIR} --evolve 1000 --cache', cwd='yolov5')\n",
    "\n"
   ]
  },
  {
   "cell_type": "code",
   "execution_count": 4,
   "metadata": {},
   "outputs": [
    {
     "name": "stdout",
     "output_type": "stream",
     "text": [
      "d:\\Github\\DeepShadow\\yolov5\n"
     ]
    },
    {
     "name": "stderr",
     "output_type": "stream",
     "text": [
      "c:\\Users\\fangy\\miniconda3\\envs\\normal\\lib\\site-packages\\IPython\\core\\magics\\osm.py:417: UserWarning: using dhist requires you to install the `pickleshare` library.\n",
      "  self.shell.db['dhist'] = compress_dhist(dhist)[-100:]\n"
     ]
    }
   ],
   "source": [
    "%cd yolov5"
   ]
  },
  {
   "cell_type": "code",
   "execution_count": 5,
   "metadata": {},
   "outputs": [],
   "source": [
    "# !python train.py --data ../tele_datasets/mixed/data.yaml --weights yolov5s.pt --img 1024 --epochs 300 --batch-size 4 --cache"
   ]
  },
  {
   "cell_type": "code",
   "execution_count": 4,
   "metadata": {},
   "outputs": [
    {
     "ename": "IndexError",
     "evalue": "list index out of range",
     "output_type": "error",
     "traceback": [
      "\u001b[1;31m---------------------------------------------------------------------------\u001b[0m",
      "\u001b[1;31mIndexError\u001b[0m                                Traceback (most recent call last)",
      "Cell \u001b[1;32mIn[4], line 5\u001b[0m\n\u001b[0;32m      1\u001b[0m t2 \u001b[38;5;241m=\u001b[39m time\u001b[38;5;241m.\u001b[39mperf_counter()\n\u001b[0;32m      3\u001b[0m shutil\u001b[38;5;241m.\u001b[39mmove(\u001b[38;5;124m'\u001b[39m\u001b[38;5;124myolov5/runs/\u001b[39m\u001b[38;5;124m'\u001b[39m, \u001b[38;5;124mf\u001b[39m\u001b[38;5;124m'\u001b[39m\u001b[38;5;132;01m{\u001b[39;00mcurr_dir\u001b[38;5;132;01m}\u001b[39;00m\u001b[38;5;124m'\u001b[39m)\n\u001b[1;32m----> 5\u001b[0m result \u001b[38;5;241m=\u001b[39m pd\u001b[38;5;241m.\u001b[39mread_csv(\u001b[43mglob\u001b[49m\u001b[38;5;241;43m.\u001b[39;49m\u001b[43mglob\u001b[49m\u001b[43m(\u001b[49m\u001b[38;5;124;43mf\u001b[39;49m\u001b[38;5;124;43m'\u001b[39;49m\u001b[38;5;132;43;01m{\u001b[39;49;00m\u001b[43mcurr_dir\u001b[49m\u001b[38;5;132;43;01m}\u001b[39;49;00m\u001b[38;5;124;43m/**/*/results*.csv\u001b[39;49m\u001b[38;5;124;43m'\u001b[39;49m\u001b[43m,\u001b[49m\u001b[43m \u001b[49m\u001b[43mrecursive\u001b[49m\u001b[38;5;241;43m=\u001b[39;49m\u001b[38;5;28;43;01mTrue\u001b[39;49;00m\u001b[43m)\u001b[49m\u001b[43m[\u001b[49m\u001b[38;5;241;43m-\u001b[39;49m\u001b[38;5;241;43m1\u001b[39;49m\u001b[43m]\u001b[49m)\n\u001b[0;32m      6\u001b[0m result\u001b[38;5;241m.\u001b[39mcolumns \u001b[38;5;241m=\u001b[39m result\u001b[38;5;241m.\u001b[39mcolumns\u001b[38;5;241m.\u001b[39mstr\u001b[38;5;241m.\u001b[39mstrip()\n\u001b[0;32m      7\u001b[0m df_sorted \u001b[38;5;241m=\u001b[39m result\u001b[38;5;241m.\u001b[39msort_values(by\u001b[38;5;241m=\u001b[39m\u001b[38;5;124m'\u001b[39m\u001b[38;5;124mmetrics/mAP_0.5\u001b[39m\u001b[38;5;124m'\u001b[39m, ascending\u001b[38;5;241m=\u001b[39m\u001b[38;5;28;01mFalse\u001b[39;00m)\n",
      "\u001b[1;31mIndexError\u001b[0m: list index out of range"
     ]
    }
   ],
   "source": [
    "t2 = time.perf_counter()\n",
    "\n",
    "shutil.move('yolov5/runs/', f'{curr_dir}')\n",
    "\n",
    "result = pd.read_csv(glob.glob(f'{curr_dir}/**/*/results*.csv', recursive=True)[-1])\n",
    "result.columns = result.columns.str.strip()\n",
    "df_sorted = result.sort_values(by='metrics/mAP_0.5', ascending=False)\n",
    "best = df_sorted.iloc[0, :]\n",
    "\n",
    "\n",
    "box_loss = best['val/box_loss']\n",
    "obj_loss = best['val/obj_loss']\n",
    "cls_loss = best['val/cls_loss']\n",
    "precision= best['metrics/precision']\n",
    "recall = best['metrics/recall']\n",
    "mAP_05 = best['metrics/mAP_0.5']\n",
    "mAP_0595 = best['metrics/mAP_0.5:0.95']\n",
    "\n",
    "\n",
    "with open(f\"{data_dir}/telescope_config.json\", \"r\") as json_file:\n",
    "    telescope_config = json.load(json_file)\n",
    "\n",
    "with open(f\"{data_dir}/stars_config.json\", \"r\") as json_file:\n",
    "    stars_config = json.load(json_file)\n",
    "\n",
    "\n",
    "a = {\n",
    "    'Model_name': 'yolov5',\n",
    "    'Batch_size': batch_size,\n",
    "    'Resolution': size,\n",
    "    'date': date_string,\n",
    "    'Training Epoch': EPOCHS,\n",
    "    'box_loss' : box_loss,\n",
    "    'obj_loss' : obj_loss,\n",
    "    'cls_loss' : cls_loss,\n",
    "    'precision' : precision,\n",
    "    'recall' : recall,\n",
    "    'mAP_0.5' : mAP_05,\n",
    "    'mAP_0.5:0.95': mAP_0595,\n",
    "    'No. training': num_photo / 5 *4,\n",
    "    'No. testing': num_photo / 5,\n",
    "    'Time': t2 - t1,\n",
    "    'noise_radius': noise_radius,\n",
    "}\n",
    "\n",
    "df = pd.read_csv('logs_yolo/results.csv')\n",
    "df = pd.concat([df, pd.DataFrame([a])], ignore_index=True)\n",
    "df.to_csv('logs_yolo/results.csv', index=False)\n"
   ]
  }
 ],
 "metadata": {
  "kernelspec": {
   "display_name": "normal",
   "language": "python",
   "name": "python3"
  },
  "language_info": {
   "codemirror_mode": {
    "name": "ipython",
    "version": 3
   },
   "file_extension": ".py",
   "mimetype": "text/x-python",
   "name": "python",
   "nbconvert_exporter": "python",
   "pygments_lexer": "ipython3",
   "version": "3.9.19"
  }
 },
 "nbformat": 4,
 "nbformat_minor": 2
}
