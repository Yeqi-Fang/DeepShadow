{
 "cells": [
  {
   "cell_type": "code",
   "execution_count": 10,
   "metadata": {},
   "outputs": [],
   "source": [
    "rayleigh_diffraction = 10.48\n",
    "distance = 83.08\n",
    "inc_angle = 1.48\n",
    "detected_angle = 0.54\n",
    "cls_angle = 0.69\n",
    "PA_angle = 0.68\n",
    "mass_angle = 1.52\n",
    "\n"
   ]
  },
  {
   "cell_type": "code",
   "execution_count": 11,
   "metadata": {},
   "outputs": [
    {
     "name": "stdout",
     "output_type": "stream",
     "text": [
      "inclination resolution: 15.5104, distance: 56.13513513513514\n",
      "detected resolution: 5.6592, distance: 153.85185185185185\n",
      "cls resolution: 7.231199999999999, distance: 120.40579710144928\n",
      "PA resolution: 7.126400000000001, distance: 122.17647058823529\n",
      "mass resolution: 15.9296, distance: 54.6578947368421\n"
     ]
    }
   ],
   "source": [
    "print(f\"inclination resolution: {rayleigh_diffraction * inc_angle}, distance: {distance / inc_angle}\")\n",
    "print(f\"detected resolution: {rayleigh_diffraction * detected_angle}, distance: {distance / detected_angle}\")\n",
    "print(f\"cls resolution: {rayleigh_diffraction * cls_angle}, distance: {distance / cls_angle}\")\n",
    "print(f\"PA resolution: {rayleigh_diffraction * PA_angle}, distance: {distance / PA_angle}\")\n",
    "print(f\"mass resolution: {rayleigh_diffraction * mass_angle}, distance: {distance / mass_angle}\")\n",
    "\n"
   ]
  }
 ],
 "metadata": {
  "kernelspec": {
   "display_name": "Python 3",
   "language": "python",
   "name": "python3"
  },
  "language_info": {
   "codemirror_mode": {
    "name": "ipython",
    "version": 3
   },
   "file_extension": ".py",
   "mimetype": "text/x-python",
   "name": "python",
   "nbconvert_exporter": "python",
   "pygments_lexer": "ipython3",
   "version": "3.9.8"
  }
 },
 "nbformat": 4,
 "nbformat_minor": 2
}
