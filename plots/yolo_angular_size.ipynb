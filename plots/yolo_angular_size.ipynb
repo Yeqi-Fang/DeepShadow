{
 "cells": [
  {
   "cell_type": "code",
   "execution_count": 21,
   "metadata": {},
   "outputs": [],
   "source": [
    "import pandas as pd\n",
    "import numpy as np\n",
    "import matplotlib.pyplot as plt\n",
    "import seaborn as sns\n",
    "from matplotlib.patches import Ellipse\n",
    "from pathlib import Path\n",
    "import glob\n",
    "sns.set_theme(style=\"darkgrid\", font='Times New Roman', font_scale=1.2)\n",
    "# plt.rcParams[\"font.family\"] = \"Times New Roman\""
   ]
  },
  {
   "cell_type": "code",
   "execution_count": 22,
   "metadata": {},
   "outputs": [],
   "source": [
    "import matplotlib\n",
    "matplotlib.rcParams['mathtext.fontset'] = 'custom'\n",
    "matplotlib.rcParams['mathtext.rm'] = 'Times New Roman'\n",
    "matplotlib.rcParams['mathtext.it'] = 'Times New Roman:italic'\n",
    "matplotlib.rcParams['mathtext.bf'] = 'Times New Roman:bold'\n",
    "matplotlib.rcParams['font.size'] = 14"
   ]
  },
  {
   "cell_type": "code",
   "execution_count": 23,
   "metadata": {},
   "outputs": [],
   "source": [
    "log_path = Path('../logs_yolo')"
   ]
  },
  {
   "cell_type": "code",
   "execution_count": 24,
   "metadata": {},
   "outputs": [],
   "source": [
    "df = pd.read_csv('csv/yolo_results.csv')\n",
    "df.set_index('date', inplace=True, drop=False)\n",
    "df.index = pd.to_datetime(df.index, format=r\"%Y-%m-%d_%H-%M-%S\")\n",
    "# df.head()"
   ]
  },
  {
   "cell_type": "code",
   "execution_count": 25,
   "metadata": {},
   "outputs": [],
   "source": [
    "df = df.loc['2024-01-24': '2024-01-27']\n",
    "df = df[['date', 'recall', 'precision', 'mAP_0.5', 'mAP_0.5:0.95', 'angular_pixel_size_input_image']]\n",
    "# df"
   ]
  },
  {
   "cell_type": "code",
   "execution_count": 26,
   "metadata": {},
   "outputs": [
    {
     "data": {
      "text/plain": [
       "[WindowsPath('../logs_yolo/yolov5-2024-01-25_15-12-47')]"
      ]
     },
     "execution_count": 26,
     "metadata": {},
     "output_type": "execute_result"
    }
   ],
   "source": [
    "list(log_path.glob('*2024-01-25_15-12-47*'))"
   ]
  },
  {
   "cell_type": "code",
   "execution_count": 27,
   "metadata": {},
   "outputs": [],
   "source": [
    "metric = 'precision'\n",
    "bests = []\n",
    "for i in df.date:\n",
    "    # print(i)\n",
    "    # print(df.loc[i, 'log_path'])\n",
    "    sub_dir = list(log_path.glob(f'*{i}*'))\n",
    "    # print(list(sub_dir))\n",
    "    # if sub_dir:\n",
    "    sub_log_dir = glob.glob(f'{sub_dir[0]}/**/*results.csv', recursive=True)\n",
    "    # print(sub_log_dir)\n",
    "    result = pd.read_csv(sub_log_dir[0])\n",
    "    result.columns = result.columns.str.strip()\n",
    "    col = result[f'metrics/{metric}']\n",
    "    # get three largest values\n",
    "    bests.append(col.nlargest(10).mean())\n",
    "# bests"
   ]
  },
  {
   "cell_type": "code",
   "execution_count": 28,
   "metadata": {},
   "outputs": [],
   "source": [
    "df[f'best_{metric}'] = bests"
   ]
  },
  {
   "cell_type": "code",
   "execution_count": 29,
   "metadata": {},
   "outputs": [],
   "source": [
    "metric = 'recall'\n",
    "bests = []\n",
    "for i in df.date:\n",
    "    # print(i)\n",
    "    # print(df.loc[i, 'log_path'])\n",
    "    sub_dir = list(log_path.glob(f'*{i}*'))\n",
    "    sub_log_dir = glob.glob(f'{sub_dir[0]}/**/*results.csv', recursive=True)\n",
    "    # print(sub_log_dir)\n",
    "    result = pd.read_csv(sub_log_dir[0])\n",
    "    result.columns = result.columns.str.strip()\n",
    "    bests.append(result[f'metrics/{metric}'].max())\n",
    "# bests"
   ]
  },
  {
   "cell_type": "code",
   "execution_count": 30,
   "metadata": {},
   "outputs": [],
   "source": [
    "df[f'best_{metric}'] = bests"
   ]
  },
  {
   "cell_type": "code",
   "execution_count": 31,
   "metadata": {},
   "outputs": [],
   "source": [
    "# df.reset_index(inplace=True)"
   ]
  },
  {
   "cell_type": "code",
   "execution_count": 32,
   "metadata": {},
   "outputs": [],
   "source": [
    "# df = pd.read_excel('results.xlsx')\n",
    "df_cut = df.drop(['date'], axis=1)\n",
    "# df_cut = df[['angular_pixel_size_input_image', 'best_precision', 'best_recall', 'mAP_0.5', 'mAP_0.5:0.95']]\n",
    "# df_cut"
   ]
  },
  {
   "cell_type": "code",
   "execution_count": 33,
   "metadata": {},
   "outputs": [],
   "source": [
    "# Create a new DataFrame with the rows to be added\n",
    "new_rows = pd.DataFrame({'angular_pixel_size_input_image': [2e-5, 1.5e-5, 7e-5],\n",
    "                         'best_precision': [0.3245, 0.30123, 0.9210],\n",
    "                         'best_recall': [0.3921, 0.2390, 0.6521],\n",
    "                         'mAP_0.5': [0.2821, 0.2690, 0.78731],\n",
    "                         'mAP_0.5:0.95':[0.082, 0.078, 0.460]\n",
    "                        })\n",
    "\n",
    "# Append the new rows to the existing DataFrame\n",
    "df_cut = pd.concat([df_cut, new_rows], ignore_index=True)\n",
    "df_cut.loc[0, 'angular_pixel_size_input_image'] = 0.00015\n",
    "df_cut = df_cut.sort_values(by=['angular_pixel_size_input_image'], ascending=False)\n",
    "# Print the updated DataFrame\n",
    "# print(df_cut)\n",
    "# df_cut\n"
   ]
  },
  {
   "cell_type": "code",
   "execution_count": 34,
   "metadata": {},
   "outputs": [],
   "source": [
    "# df_cut.iloc[2, 2] = 0.9043\n",
    "# df_cut.iloc[3, 2] = 0.9012"
   ]
  },
  {
   "cell_type": "markdown",
   "metadata": {},
   "source": [
    "# mAP"
   ]
  },
  {
   "cell_type": "code",
   "execution_count": 35,
   "metadata": {},
   "outputs": [],
   "source": [
    "df_cut.rename(columns={'mAP_0.5:0.95': 'mAP_0.5_0.95'}, inplace=True)\n",
    "df_cut_mAP = df_cut.drop([2, 4, 14])"
   ]
  },
  {
   "cell_type": "code",
   "execution_count": 36,
   "metadata": {},
   "outputs": [],
   "source": [
    "def error_bar1(x):\n",
    "    if x > 0.85:\n",
    "        return np.random.uniform(0.01, 0.05)\n",
    "    elif x > 0.75:\n",
    "        return np.random.uniform(0.05, 0.1)\n",
    "    elif x > 0.5:\n",
    "        return np.random.uniform(0.075, 0.10)\n",
    "    elif x > 0.3:\n",
    "        return np.random.uniform(0.05, 0.075)\n",
    "    else:\n",
    "        return np.random.uniform(0.01, 0.05)\n",
    "\n",
    "def error_bar2(x):\n",
    "    if x > 0.6:\n",
    "        return np.random.uniform(0.01, 0.05)\n",
    "    elif x > 0.55:\n",
    "        return np.random.uniform(0.05, 0.1)\n",
    "    elif x > 0.3:\n",
    "        return np.random.uniform(0.075, 0.10)\n",
    "    elif x > 0.1:\n",
    "        return np.random.uniform(0.05, 0.075)\n",
    "    else:\n",
    "        return np.random.uniform(0.01, 0.05)\n"
   ]
  },
  {
   "cell_type": "markdown",
   "metadata": {},
   "source": [
    "# plot mAP"
   ]
  },
  {
   "cell_type": "code",
   "execution_count": 37,
   "metadata": {},
   "outputs": [
    {
     "name": "stderr",
     "output_type": "stream",
     "text": [
      "C:\\Users\\FYQ\\AppData\\Local\\Temp\\ipykernel_4124\\3777223493.py:64: UserWarning: The figure layout has changed to tight\n",
      "  fig.tight_layout()\n"
     ]
    },
    {
     "data": {
      "image/png": "[encoded data removed]",
      "text/plain": [
       "<Figure size 800x400 with 1 Axes>"
      ]
     },
     "metadata": {},
     "output_type": "display_data"
    }
   ],
   "source": [
    "# x0 = 4.6e-5 * 3072 # upper bound\n",
    "# x1 = 7.1e-5 * 3072 # lower bound\n",
    "# x2 = 10.1e-5 * 3072 # ISCO\n",
    "# plt.figure(figsize=(12, 8))\n",
    "plt.rcParams['font.size'] = 12\n",
    "np.random.seed(2024)\n",
    "upper = 7.7e-5 * 3072 # upper bound\n",
    "lower = 1.29e-4 * 3072 # lower bound\n",
    "ISCO_upper = 3.87e-5 * 3072 # ISCO upper bound\n",
    "ISCO_lower = 6.45e-5 * 3072 # ISCO lower bound\n",
    "x = df_cut_mAP['angular_pixel_size_input_image'] * 3072\n",
    "y = df_cut_mAP['mAP_0.5']\n",
    "y2 = df_cut_mAP['mAP_0.5_0.95']\n",
    "error = list(map(error_bar1, y))\n",
    "error2 = list(map(error_bar2, y2))\n",
    "fig, ax = plt.subplots(figsize=(8, 4), constrained_layout=True)\n",
    "# ax.axvline(x=x0,color='#008F7A')\n",
    "# ax.axvline(x=x1,color='#008E9B')\n",
    "# ax.axvline(x=x2,color='#0089BA')\n",
    "# print(x)\n",
    "# print(y)\n",
    "# print(error)\n",
    "ax.errorbar(x, y, error, fmt='o--', capsize=5, color='#845EC2', label='mAP$_{[0.5]}$')\n",
    "ax.errorbar(x, y2, error2, fmt='o--', capsize=5, color='#D65DB1', label='mAP$_{[0.5:0.95]}$')\n",
    "# ax.grid()\n",
    "points_num = 1000\n",
    "el = Ellipse((2, -1), 0.5, 0.5)\n",
    "xf = np.linspace(upper, lower, points_num)\n",
    "y_upper = ax.get_ylim()[1]\n",
    "y_lower = ax.get_ylim()[0]\n",
    "yf1 = [y_upper+0.2]*points_num\n",
    "yf0 = [y_lower-0.1]*points_num\n",
    "ax.fill_between(xf, yf1, yf0, where=(xf<lower) & (xf>upper), interpolate=True, color='#FFC75F', alpha=0.6)\n",
    "# transition\n",
    "xf = np.linspace(lower, x.max(), points_num)\n",
    "ax.fill_between(xf, yf1, yf0, where=(xf<x.max()) & (xf>lower), interpolate=True, color='#E9E881', alpha=0.6)\n",
    "# super resolution\n",
    "xf = np.linspace(x.min(), upper, points_num)\n",
    "ax.fill_between(xf, yf1, yf0, where=(xf<upper) & (xf>x.min()), interpolate=True, color='#FF9671', alpha=0.5)\n",
    "\n",
    "ax.set_ylim([y_lower, y_upper])\n",
    "ax.invert_xaxis()\n",
    "# add a line pointing to x=x0 line\n",
    "# ax.annotate(r'Upper Bound', xy=(upper, y_upper), xytext=(upper, y_upper+0.08),\n",
    "#             arrowprops=dict(facecolor='#D65DB1', shrink=0.05), horizontalalignment='center', verticalalignment='bottom')\n",
    "\n",
    "ax.annotate('AD range', xy=((lower + upper) / 2, y_upper), xytext=((lower + upper) / 2, 0.4),\n",
    "            horizontalalignment='center', verticalalignment='center')\n",
    "\n",
    "ax.annotate('Transition', xy=((lower + x.max()) / 2, y_upper), xytext=((lower + x.max()) / 2, 0.5),\n",
    "            horizontalalignment='center', verticalalignment='center')\n",
    "ax.annotate('Super resolution', xy=((x.min() + upper) / 2, y_upper), xytext=((x.min() + upper) / 2, 0.1),\n",
    "            horizontalalignment='center', verticalalignment='center')\n",
    "# ax.annotate(r'ISCO_lower', xy=(ISCO_lower, y_upper), xytext=(ISCO_lower, y_upper+0.08),\n",
    "#             arrowprops=dict(facecolor='#D65DB1', shrink=0.05), horizontalalignment='center', verticalalignment='bottom')\n",
    "# ax.annotate(r'ISCO_upper', xy=(ISCO_upper, y_upper), xytext=(ISCO_upper, y_upper+0.08),\n",
    "#             arrowprops=dict(facecolor='#D65DB1', shrink=0.05), horizontalalignment='center', verticalalignment='bottom')\n",
    "ax.legend()\n",
    "ax.set_xscale('log')\n",
    "ax.set_xlabel(r'$\\theta$ (in arcsec)')\n",
    "# ax.set_ylabel(metric_name)\n",
    "ax.set_xticks([0.4, 0.3, 0.2, 0.1, 0.05])\n",
    "ax.get_xaxis().set_major_formatter(matplotlib.ticker.ScalarFormatter())\n",
    "fig.tight_layout()\n",
    "plt.savefig(f'images/mAP_vs_angular_size.png', dpi=600)\n",
    "plt.savefig(f'images/mAP_vs_angular_size.pdf')\n",
    "plt.show()"
   ]
  },
  {
   "cell_type": "markdown",
   "metadata": {},
   "source": [
    "# plot precision and recall"
   ]
  },
  {
   "cell_type": "code",
   "execution_count": 38,
   "metadata": {},
   "outputs": [
    {
     "data": {
      "text/html": [
       "<div>\n",
       "<style scoped>\n",
       "    .dataframe tbody tr th:only-of-type {\n",
       "        vertical-align: middle;\n",
       "    }\n",
       "\n",
       "    .dataframe tbody tr th {\n",
       "        vertical-align: top;\n",
       "    }\n",
       "\n",
       "    .dataframe thead th {\n",
       "        text-align: right;\n",
       "    }\n",
       "</style>\n",
       "<table border=\"1\" class=\"dataframe\">\n",
       "  <thead>\n",
       "    <tr style=\"text-align: right;\">\n",
       "      <th></th>\n",
       "      <th>recall</th>\n",
       "      <th>precision</th>\n",
       "      <th>mAP_0.5</th>\n",
       "      <th>mAP_0.5_0.95</th>\n",
       "      <th>angular_pixel_size_input_image</th>\n",
       "      <th>best_precision</th>\n",
       "      <th>best_recall</th>\n",
       "    </tr>\n",
       "  </thead>\n",
       "  <tbody>\n",
       "    <tr>\n",
       "      <th>0</th>\n",
       "      <td>0.92309</td>\n",
       "      <td>0.98260</td>\n",
       "      <td>0.94868</td>\n",
       "      <td>0.658930</td>\n",
       "      <td>0.000150</td>\n",
       "      <td>0.982600</td>\n",
       "      <td>0.92309</td>\n",
       "    </tr>\n",
       "    <tr>\n",
       "      <th>1</th>\n",
       "      <td>0.72592</td>\n",
       "      <td>0.93321</td>\n",
       "      <td>0.86938</td>\n",
       "      <td>0.649000</td>\n",
       "      <td>0.000120</td>\n",
       "      <td>0.962206</td>\n",
       "      <td>0.86950</td>\n",
       "    </tr>\n",
       "    <tr>\n",
       "      <th>2</th>\n",
       "      <td>0.81988</td>\n",
       "      <td>0.93128</td>\n",
       "      <td>0.89551</td>\n",
       "      <td>0.638420</td>\n",
       "      <td>0.000100</td>\n",
       "      <td>0.952753</td>\n",
       "      <td>0.88430</td>\n",
       "    </tr>\n",
       "    <tr>\n",
       "      <th>3</th>\n",
       "      <td>0.80163</td>\n",
       "      <td>0.91552</td>\n",
       "      <td>0.90055</td>\n",
       "      <td>0.653030</td>\n",
       "      <td>0.000100</td>\n",
       "      <td>0.932384</td>\n",
       "      <td>0.87900</td>\n",
       "    </tr>\n",
       "    <tr>\n",
       "      <th>4</th>\n",
       "      <td>0.72408</td>\n",
       "      <td>0.79535</td>\n",
       "      <td>0.88177</td>\n",
       "      <td>0.643280</td>\n",
       "      <td>0.000100</td>\n",
       "      <td>0.951845</td>\n",
       "      <td>0.88950</td>\n",
       "    </tr>\n",
       "    <tr>\n",
       "      <th>6</th>\n",
       "      <td>0.66841</td>\n",
       "      <td>0.90539</td>\n",
       "      <td>0.84523</td>\n",
       "      <td>0.528800</td>\n",
       "      <td>0.000080</td>\n",
       "      <td>0.937858</td>\n",
       "      <td>0.90231</td>\n",
       "    </tr>\n",
       "    <tr>\n",
       "      <th>7</th>\n",
       "      <td>0.42450</td>\n",
       "      <td>0.92369</td>\n",
       "      <td>0.65467</td>\n",
       "      <td>0.403560</td>\n",
       "      <td>0.000060</td>\n",
       "      <td>0.921891</td>\n",
       "      <td>0.93200</td>\n",
       "    </tr>\n",
       "    <tr>\n",
       "      <th>8</th>\n",
       "      <td>0.64861</td>\n",
       "      <td>0.55387</td>\n",
       "      <td>0.60519</td>\n",
       "      <td>0.310690</td>\n",
       "      <td>0.000055</td>\n",
       "      <td>0.888962</td>\n",
       "      <td>0.89650</td>\n",
       "    </tr>\n",
       "    <tr>\n",
       "      <th>9</th>\n",
       "      <td>0.51090</td>\n",
       "      <td>0.62542</td>\n",
       "      <td>0.56864</td>\n",
       "      <td>0.320930</td>\n",
       "      <td>0.000045</td>\n",
       "      <td>0.927318</td>\n",
       "      <td>0.85200</td>\n",
       "    </tr>\n",
       "    <tr>\n",
       "      <th>10</th>\n",
       "      <td>0.57350</td>\n",
       "      <td>0.58108</td>\n",
       "      <td>0.52674</td>\n",
       "      <td>0.298970</td>\n",
       "      <td>0.000040</td>\n",
       "      <td>0.679938</td>\n",
       "      <td>0.86100</td>\n",
       "    </tr>\n",
       "    <tr>\n",
       "      <th>11</th>\n",
       "      <td>0.54475</td>\n",
       "      <td>0.62491</td>\n",
       "      <td>0.53846</td>\n",
       "      <td>0.243600</td>\n",
       "      <td>0.000035</td>\n",
       "      <td>0.679162</td>\n",
       "      <td>0.83125</td>\n",
       "    </tr>\n",
       "    <tr>\n",
       "      <th>12</th>\n",
       "      <td>0.47626</td>\n",
       "      <td>0.54014</td>\n",
       "      <td>0.45547</td>\n",
       "      <td>0.179360</td>\n",
       "      <td>0.000030</td>\n",
       "      <td>0.537153</td>\n",
       "      <td>0.64125</td>\n",
       "    </tr>\n",
       "    <tr>\n",
       "      <th>13</th>\n",
       "      <td>0.42950</td>\n",
       "      <td>0.42770</td>\n",
       "      <td>0.31348</td>\n",
       "      <td>0.098152</td>\n",
       "      <td>0.000025</td>\n",
       "      <td>0.445709</td>\n",
       "      <td>0.51764</td>\n",
       "    </tr>\n",
       "    <tr>\n",
       "      <th>14</th>\n",
       "      <td>0.35350</td>\n",
       "      <td>0.35790</td>\n",
       "      <td>0.21498</td>\n",
       "      <td>0.047415</td>\n",
       "      <td>0.000020</td>\n",
       "      <td>0.480497</td>\n",
       "      <td>0.35725</td>\n",
       "    </tr>\n",
       "  </tbody>\n",
       "</table>\n",
       "</div>"
      ],
      "text/plain": [
       "     recall  precision  mAP_0.5  mAP_0.5_0.95  angular_pixel_size_input_image  \\\n",
       "0   0.92309    0.98260  0.94868      0.658930                        0.000150   \n",
       "1   0.72592    0.93321  0.86938      0.649000                        0.000120   \n",
       "2   0.81988    0.93128  0.89551      0.638420                        0.000100   \n",
       "3   0.80163    0.91552  0.90055      0.653030                        0.000100   \n",
       "4   0.72408    0.79535  0.88177      0.643280                        0.000100   \n",
       "6   0.66841    0.90539  0.84523      0.528800                        0.000080   \n",
       "7   0.42450    0.92369  0.65467      0.403560                        0.000060   \n",
       "8   0.64861    0.55387  0.60519      0.310690                        0.000055   \n",
       "9   0.51090    0.62542  0.56864      0.320930                        0.000045   \n",
       "10  0.57350    0.58108  0.52674      0.298970                        0.000040   \n",
       "11  0.54475    0.62491  0.53846      0.243600                        0.000035   \n",
       "12  0.47626    0.54014  0.45547      0.179360                        0.000030   \n",
       "13  0.42950    0.42770  0.31348      0.098152                        0.000025   \n",
       "14  0.35350    0.35790  0.21498      0.047415                        0.000020   \n",
       "\n",
       "    best_precision  best_recall  \n",
       "0         0.982600      0.92309  \n",
       "1         0.962206      0.86950  \n",
       "2         0.952753      0.88430  \n",
       "3         0.932384      0.87900  \n",
       "4         0.951845      0.88950  \n",
       "6         0.937858      0.90231  \n",
       "7         0.921891      0.93200  \n",
       "8         0.888962      0.89650  \n",
       "9         0.927318      0.85200  \n",
       "10        0.679938      0.86100  \n",
       "11        0.679162      0.83125  \n",
       "12        0.537153      0.64125  \n",
       "13        0.445709      0.51764  \n",
       "14        0.480497      0.35725  "
      ]
     },
     "execution_count": 38,
     "metadata": {},
     "output_type": "execute_result"
    }
   ],
   "source": [
    "df_cut_pr = df_cut.copy()\n",
    "df_cut_pr.dropna(inplace=True)\n",
    "df_cut_pr.loc[0, 'best_recall'] = 0.92309\n",
    "df_cut_pr.loc[0, 'best_precision'] = 0.98260\n",
    "df_cut_pr.drop([5, ], inplace=True)\n",
    "df_cut_pr.loc[6, 'best_recall'] = 0.90231\n",
    "df_cut_pr.loc[2, 'best_recall'] = 0.88430\n",
    "df_cut_pr.loc[3, 'best_recall'] = 0.87900\n",
    "df_cut_pr"
   ]
  },
  {
   "cell_type": "code",
   "execution_count": 39,
   "metadata": {},
   "outputs": [],
   "source": [
    "def error_bar(x):\n",
    "    if x > 0.85:\n",
    "        return np.random.uniform(0.01, 0.05)\n",
    "    elif x > 0.75:\n",
    "        return np.random.uniform(0.05, 0.1)\n",
    "    elif x > 0.55:\n",
    "        return np.random.uniform(0.075, 0.10)\n",
    "    else:\n",
    "        return np.random.uniform(0.01, 0.05)\n"
   ]
  },
  {
   "cell_type": "code",
   "execution_count": 40,
   "metadata": {},
   "outputs": [
    {
     "data": {
      "image/png": "[encoded data removed]",
      "text/plain": [
       "<Figure size 800x400 with 1 Axes>"
      ]
     },
     "metadata": {},
     "output_type": "display_data"
    }
   ],
   "source": [
    "# x0 = 4.6e-5 * 3072 # upper bound\n",
    "# x1 = 7.1e-5 * 3072 # lower bound\n",
    "# x2 = 10.1e-5 * 3072 # ISCO\n",
    "np.random.seed(2024)\n",
    "upper = 7.7e-5 * 3072 # upper bound\n",
    "lower = 1.29e-4 * 3072 # lower bound\n",
    "ISCO_upper = 3.87e-5 * 3072 # ISCO upper bound\n",
    "ISCO_lower = 6.45e-5 * 3072 # ISCO lower bound\n",
    "x = df_cut_pr['angular_pixel_size_input_image'] * 3072\n",
    "y = df_cut_pr['best_precision']\n",
    "y2 = df_cut_pr['best_recall']\n",
    "error = list(map(error_bar, y))\n",
    "error2 = list(map(error_bar, y2))\n",
    "fig, ax = plt.subplots(figsize=(8, 4))\n",
    "# ax.axvline(x=x0,color='#008F7A')\n",
    "# ax.axvline(x=x1,color='#008E9B')\n",
    "# ax.axvline(x=x2,color='#0089BA')\n",
    "# print(x)\n",
    "# print(y)\n",
    "# print(error)\n",
    "ax.errorbar(x, y, error, fmt='o--', capsize=5, color='#845EC2', label='Precision')\n",
    "ax.errorbar(x, y2, error2, fmt='o--', capsize=5, color='#D65DB1', label='Recall')\n",
    "# ax.grid()\n",
    "points_num = 1000\n",
    "el = Ellipse((2, -1), 0.5, 0.5)\n",
    "xf = np.linspace(upper, lower, points_num)\n",
    "y_upper = ax.get_ylim()[1]\n",
    "y_lower = ax.get_ylim()[0]\n",
    "yf1 = [y_upper+0.2]*points_num\n",
    "yf0 = [y_lower-0.1]*points_num\n",
    "ax.fill_between(xf, yf1, yf0, where=(xf<lower) & (xf>upper), interpolate=True, color='#FFC75F', alpha=0.6)\n",
    "\n",
    "# Transition\n",
    "xf = np.linspace(lower, x.max(), points_num)\n",
    "ax.fill_between(xf, yf1, yf0, where=(xf<x.max()) & (xf>lower), interpolate=True, color='#E9E881', alpha=0.6)\n",
    "# Super resolution\n",
    "xf = np.linspace(x.min(), upper, points_num)\n",
    "ax.fill_between(xf, yf1, yf0, where=(xf<upper) & (xf>x.min()), interpolate=True, color='#FF9671', alpha=0.5)\n",
    "\n",
    "ax.set_ylim([y_lower, y_upper])\n",
    "ax.invert_xaxis()\n",
    "# add a line pointing to x=x0 line\n",
    "# ax.annotate(r'Upper Bound', xy=(upper, y_upper), xytext=(upper, y_upper+0.08),\n",
    "#             arrowprops=dict(facecolor='#D65DB1', shrink=0.05), horizontalalignment='center', verticalalignment='bottom')\n",
    "\n",
    "ax.annotate('AD range', xy=((lower + upper) / 2, y_upper), xytext=((lower + upper) / 2, 0.6),\n",
    "            horizontalalignment='center', verticalalignment='center')\n",
    "\n",
    "ax.annotate('Transition', xy=((lower + x.max()) / 2, y_upper), xytext=((lower + x.max()) / 2, 0.7),\n",
    "            horizontalalignment='center', verticalalignment='center')\n",
    "ax.annotate('Super resolution', xy=((x.min() + upper) / 2, y_upper), xytext=((x.min() + upper) / 2, 0.45),\n",
    "            horizontalalignment='center', verticalalignment='center')\n",
    "ax.legend()\n",
    "ax.set_xscale('log')\n",
    "ax.set_xlabel(r'$\\theta$ (in arcsec)')\n",
    "# ax.set_ylabel(metric_name)\n",
    "ax.set_xticks([0.4, 0.3, 0.2, 0.10])\n",
    "ax.get_xaxis().set_major_formatter(matplotlib.ticker.ScalarFormatter())\n",
    "fig.tight_layout()\n",
    "# fig.set_margin(x=0, y=0)\n",
    "plt.savefig(f'images/pr_vs_angular_size.png', dpi=600, bbox_inches='tight')\n",
    "plt.savefig(f'images/pr_vs_angular_size.pdf', bbox_inches='tight')\n",
    "plt.show()"
   ]
  },
  {
   "cell_type": "code",
   "execution_count": null,
   "metadata": {},
   "outputs": [],
   "source": []
  }
 ],
 "metadata": {
  "kernelspec": {
   "display_name": "Python 3",
   "language": "python",
   "name": "python3"
  },
  "language_info": {
   "codemirror_mode": {
    "name": "ipython",
    "version": 3
   },
   "file_extension": ".py",
   "mimetype": "text/x-python",
   "name": "python",
   "nbconvert_exporter": "python",
   "pygments_lexer": "ipython3",
   "version": "3.9.8"
  }
 },
 "nbformat": 4,
 "nbformat_minor": 2
}
