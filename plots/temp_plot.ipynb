{
 "cells": [
  {
   "cell_type": "code",
   "execution_count": 28,
   "metadata": {},
   "outputs": [],
   "source": [
    "import pandas as pd\n",
    "import matplotlib.pyplot as plt\n",
    "import seaborn as sns\n",
    "sns.set_theme(font_scale=1.5, font=\"Times New Roman\", style=\"whitegrid\")"
   ]
  },
  {
   "cell_type": "code",
   "execution_count": 29,
   "metadata": {},
   "outputs": [],
   "source": [
    "import matplotlib\n",
    "matplotlib.rcParams['mathtext.fontset'] = 'custom'\n",
    "matplotlib.rcParams['mathtext.rm'] = 'Times New Roman'\n",
    "matplotlib.rcParams['mathtext.it'] = 'Times New Roman:italic'\n",
    "matplotlib.rcParams['mathtext.bf'] = 'Times New Roman:bold'"
   ]
  },
  {
   "cell_type": "code",
   "execution_count": 30,
   "metadata": {},
   "outputs": [],
   "source": [
    "csv_path = ['cm_998', 'cm_900', 'cm_767', 'cm_456']\n",
    "angular_sizes = [9e-4, 6e-5, 4e-5, 3e-5]\n",
    "acc = [0.998, 0.900, 0.767, 0.456]"
   ]
  },
  {
   "cell_type": "code",
   "execution_count": 31,
   "metadata": {},
   "outputs": [
    {
     "data": {
      "text/html": [
       "<div>\n",
       "<style scoped>\n",
       "    .dataframe tbody tr th:only-of-type {\n",
       "        vertical-align: middle;\n",
       "    }\n",
       "\n",
       "    .dataframe tbody tr th {\n",
       "        vertical-align: top;\n",
       "    }\n",
       "\n",
       "    .dataframe thead th {\n",
       "        text-align: right;\n",
       "    }\n",
       "</style>\n",
       "<table border=\"1\" class=\"dataframe\">\n",
       "  <thead>\n",
       "    <tr style=\"text-align: right;\">\n",
       "      <th></th>\n",
       "      <th>0</th>\n",
       "      <th>1</th>\n",
       "      <th>2</th>\n",
       "      <th>3</th>\n",
       "    </tr>\n",
       "  </thead>\n",
       "  <tbody>\n",
       "    <tr>\n",
       "      <th>0</th>\n",
       "      <td>892</td>\n",
       "      <td>156</td>\n",
       "      <td>39</td>\n",
       "      <td>10</td>\n",
       "    </tr>\n",
       "    <tr>\n",
       "      <th>1</th>\n",
       "      <td>269</td>\n",
       "      <td>709</td>\n",
       "      <td>131</td>\n",
       "      <td>5</td>\n",
       "    </tr>\n",
       "    <tr>\n",
       "      <th>2</th>\n",
       "      <td>40</td>\n",
       "      <td>119</td>\n",
       "      <td>1673</td>\n",
       "      <td>291</td>\n",
       "    </tr>\n",
       "    <tr>\n",
       "      <th>3</th>\n",
       "      <td>6</td>\n",
       "      <td>6</td>\n",
       "      <td>187</td>\n",
       "      <td>871</td>\n",
       "    </tr>\n",
       "  </tbody>\n",
       "</table>\n",
       "</div>"
      ],
      "text/plain": [
       "     0    1     2    3\n",
       "0  892  156    39   10\n",
       "1  269  709   131    5\n",
       "2   40  119  1673  291\n",
       "3    6    6   187  871"
      ]
     },
     "execution_count": 31,
     "metadata": {},
     "output_type": "execute_result"
    }
   ],
   "source": [
    "df = pd.read_csv('csv/cm_767.csv', index_col=0)\n",
    "df"
   ]
  },
  {
   "cell_type": "code",
   "execution_count": 32,
   "metadata": {},
   "outputs": [],
   "source": [
    "Tems = ['1905K', '2056K', '2692K', '3467K']"
   ]
  },
  {
   "cell_type": "code",
   "execution_count": 33,
   "metadata": {},
   "outputs": [
    {
     "name": "stderr",
     "output_type": "stream",
     "text": [
      "C:\\Users\\FYQ\\AppData\\Local\\Temp\\ipykernel_3220\\317769084.py:18: UserWarning: This figure includes Axes that are not compatible with tight_layout, so results might be incorrect.\n",
      "  fig.tight_layout(rect=[0, 0.19, 1, 1])\n"
     ]
    }
   ],
   "source": [
    "fig, axes = plt.subplots(1, 4, figsize=(20, 6), sharey=True)\n",
    "cbar_ax = fig.add_axes([.05, .08, .93, .03])\n",
    "# cbar_ax = fig.add_axes([.91, .1, .03, .85])\n",
    "palette = sns.color_palette('mako_r', as_cmap=True)\n",
    "for index, csv_file in enumerate(csv_path):\n",
    "    ax = axes[index]\n",
    "    ax.set_aspect('equal')\n",
    "    df_conf = pd.read_csv(f'csv/{csv_file}.csv', index_col=0)\n",
    "    cm = df_conf.to_numpy()\n",
    "    # disp = ConfusionMatrixDisplay(confusion_matrix=cm, display_labels=Tems)\n",
    "    # disp.plot(cmap='Reds', ax=ax, colorbar=index==2)\n",
    "    sns.heatmap(cm, ax=ax, annot=True, cmap=palette, fmt=\"n\", cbar=index==0, \n",
    "                cbar_ax=None if index else cbar_ax, vmin=0, vmax=2600,\n",
    "                xticklabels=Tems, yticklabels=Tems, cbar_kws={\"orientation\": \"horizontal\"})\n",
    "    ax.set_xlabel(rf'Pred temperature, acc$={acc[index]*100:.1f}\\%,\\theta={angular_sizes[index]*64/3.87e-3:.2f}\\theta_c$')\n",
    "    if index == 0:\n",
    "        ax.set_ylabel('True Temperature')\n",
    "fig.tight_layout(rect=[0, 0.19, 1, 1])\n",
    "plt.savefig(f'images/confusion4.png', dpi=600)\n",
    "plt.savefig(f'images/confusion4.pdf')"
   ]
  },
  {
   "cell_type": "code",
   "execution_count": null,
   "metadata": {},
   "outputs": [],
   "source": []
  }
 ],
 "metadata": {
  "kernelspec": {
   "display_name": "Python 3",
   "language": "python",
   "name": "python3"
  },
  "language_info": {
   "codemirror_mode": {
    "name": "ipython",
    "version": 3
   },
   "file_extension": ".py",
   "mimetype": "text/x-python",
   "name": "python",
   "nbconvert_exporter": "python",
   "pygments_lexer": "ipython3",
   "version": "3.9.8"
  }
 },
 "nbformat": 4,
 "nbformat_minor": 2
}
