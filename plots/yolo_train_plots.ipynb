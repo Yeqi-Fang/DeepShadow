{
 "cells": [
  {
   "cell_type": "code",
   "execution_count": 1,
   "metadata": {},
   "outputs": [],
   "source": [
    "# %cd ../yolov5"
   ]
  },
  {
   "cell_type": "code",
   "execution_count": 2,
   "metadata": {},
   "outputs": [],
   "source": [
    "from plots import plot_results"
   ]
  },
  {
   "cell_type": "code",
   "execution_count": 3,
   "metadata": {},
   "outputs": [
    {
     "name": "stdout",
     "output_type": "stream",
     "text": [
      "Index(['epoch', 'box loss', 'obj loss', 'class loss', 'Precision', 'Recall',\n",
      "       'mAP$_{[0.5]}$', 'mAP$_{[0.5:0.95]}$', 'box loss', 'obj loss',\n",
      "       'class loss', 'lr0', 'lr1', 'lr2'],\n",
      "      dtype='object')\n",
      "['epoch', 'box loss', 'obj loss', 'class loss', 'Precision', 'Recall', 'mAP$_{[0.5]}$', 'mAP$_{[0.5:0.95]}$', 'box loss', 'obj loss', 'class loss', 'lr0', 'lr1', 'lr2']\n",
      "Index(['epoch', 'box loss', 'obj loss', 'class loss', 'Precision', 'Recall',\n",
      "       'mAP$_{[0.5]}$', 'mAP$_{[0.5:0.95]}$', 'box loss', 'obj loss',\n",
      "       'class loss', 'lr0', 'lr1', 'lr2'],\n",
      "      dtype='object')\n",
      "['epoch', 'box loss', 'obj loss', 'class loss', 'Precision', 'Recall', 'mAP$_{[0.5]}$', 'mAP$_{[0.5:0.95]}$', 'box loss', 'obj loss', 'class loss', 'lr0', 'lr1', 'lr2']\n"
     ]
    }
   ],
   "source": [
    "plot_results(file='../plots/csv/results.csv')"
   ]
  },
  {
   "cell_type": "code",
   "execution_count": 4,
   "metadata": {},
   "outputs": [
    {
     "data": {
      "text/plain": [
       "{'epoch': 'epoch',\n",
       " 'train/box_loss': 'box loss',\n",
       " 'train/obj_loss': 'obj loss',\n",
       " 'train/cls_loss': 'class loss',\n",
       " 'metrics/precision': 'precision',\n",
       " 'metrics/recall': 'recall',\n",
       " 'metrics/mAP_0.5': 'mAP$_{[0.5]}$',\n",
       " 'metrics/mAP_0.5:0.95': 'mAP$_{[0.5:0.95]}$',\n",
       " 'val/box_loss': 'box loss',\n",
       " 'val/obj_loss': 'obj loss',\n",
       " 'val/cls_loss': 'class loss',\n",
       " 'x/lr0': 'lr0',\n",
       " 'x/lr1': 'lr1',\n",
       " 'x/lr2': 'lr2'}"
      ]
     },
     "execution_count": 4,
     "metadata": {},
     "output_type": "execute_result"
    }
   ],
   "source": [
    "{'epoch':'epoch',\n",
    " 'train/box_loss': 'box loss',\n",
    " 'train/obj_loss': 'obj loss',\n",
    " 'train/cls_loss': 'class loss',\n",
    " 'metrics/precision': 'precision',\n",
    " 'metrics/recall' : 'recall',\n",
    " 'metrics/mAP_0.5': r'mAP$_{[0.5]}$',\n",
    " 'metrics/mAP_0.5:0.95': r'mAP$_{[0.5:0.95]}$',\n",
    " 'val/box_loss': 'box loss',\n",
    " 'val/obj_loss': 'obj loss',\n",
    " 'val/cls_loss': 'class loss',\n",
    " 'x/lr0': 'lr0',\n",
    " 'x/lr1': 'lr1',\n",
    " 'x/lr2': 'lr2'}"
   ]
  }
 ],
 "metadata": {
  "kernelspec": {
   "display_name": "deepshadow",
   "language": "python",
   "name": "python3"
  },
  "language_info": {
   "codemirror_mode": {
    "name": "ipython",
    "version": 3
   },
   "file_extension": ".py",
   "mimetype": "text/x-python",
   "name": "python",
   "nbconvert_exporter": "python",
   "pygments_lexer": "ipython3",
   "version": "3.9.18"
  }
 },
 "nbformat": 4,
 "nbformat_minor": 2
}
