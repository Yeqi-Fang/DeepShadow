{
 "cells": [
  {
   "cell_type": "code",
   "execution_count": 1,
   "metadata": {},
   "outputs": [],
   "source": [
    "# %cd ../yolov5"
   ]
  },
  {
   "cell_type": "code",
   "execution_count": 2,
   "metadata": {},
   "outputs": [],
   "source": [
    "from plots import plot_results"
   ]
  },
  {
   "cell_type": "code",
   "execution_count": 3,
   "metadata": {},
   "outputs": [
    {
     "name": "stdout",
     "output_type": "stream",
     "text": [
      "Index(['epoch', 'box loss', 'obj loss', 'class loss', 'Precision', 'Recall',\n",
      "       'mAP$_{[0.5]}$', 'mAP$_{[0.5:0.95]}$', 'box loss', 'obj loss',\n",
      "       'class loss', 'lr0', 'lr1', 'lr2'],\n",
      "      dtype='object')\n",
      "['epoch', 'box loss', 'obj loss', 'class loss', 'Precision', 'Recall', 'mAP$_{[0.5]}$', 'mAP$_{[0.5:0.95]}$', 'box loss', 'obj loss', 'class loss', 'lr0', 'lr1', 'lr2']\n",
      "Index(['date', 'Model_name', 'Batch_size', 'Resolution', 'No. training',\n",
      "       'No. testing', 'Training Epoch', 'More', 'box_loss', 'obj_loss',\n",
      "       'cls_loss', 'precision', 'recall', 'mAP_0.5', 'mAP_0.5:0.95',\n",
      "       'No. star', 'No. BH', 'Time', 'BH_lower_size', 'BH_upper_size',\n",
      "       'init_size', 'wavelength', 'D', 'F', 'angular_pixel_size_input_image',\n",
      "       'CCD_pixel_size', 'CCD_pixel_count', 'noise_radius'],\n",
      "      dtype='object')\n",
      "['date', 'Model_name', 'Batch_size', 'Resolution', 'No. training', 'No. testing', 'Training Epoch', 'More', 'box_loss', 'obj_loss', 'cls_loss', 'precision', 'recall', 'mAP_0.5', 'mAP_0.5:0.95', 'No. star', 'No. BH', 'Time', 'BH_lower_size', 'BH_upper_size', 'init_size', 'wavelength', 'D', 'F', 'angular_pixel_size_input_image', 'CCD_pixel_size', 'CCD_pixel_count', 'noise_radius']\n"
     ]
    },
    {
     "ename": "NameError",
     "evalue": "name 'LOGGER' is not defined",
     "output_type": "error",
     "traceback": [
      "\u001b[1;31m---------------------------------------------------------------------------\u001b[0m",
      "\u001b[1;31mValueError\u001b[0m                                Traceback (most recent call last)",
      "File \u001b[1;32md:\\GitHub\\DeepShadow\\plots\\plots.py:443\u001b[0m, in \u001b[0;36mplot_results\u001b[1;34m(file, dir)\u001b[0m\n\u001b[0;32m    442\u001b[0m \u001b[38;5;28;01mfor\u001b[39;00m i, j \u001b[38;5;129;01min\u001b[39;00m \u001b[38;5;28menumerate\u001b[39m([\u001b[38;5;241m1\u001b[39m, \u001b[38;5;241m2\u001b[39m, \u001b[38;5;241m3\u001b[39m, \u001b[38;5;241m8\u001b[39m, \u001b[38;5;241m9\u001b[39m, \u001b[38;5;241m10\u001b[39m]):\n\u001b[1;32m--> 443\u001b[0m     y \u001b[38;5;241m=\u001b[39m \u001b[43mdata\u001b[49m\u001b[38;5;241;43m.\u001b[39;49m\u001b[43mvalues\u001b[49m\u001b[43m[\u001b[49m\u001b[43m:\u001b[49m\u001b[43m,\u001b[49m\u001b[43m \u001b[49m\u001b[43mj\u001b[49m\u001b[43m]\u001b[49m\u001b[38;5;241;43m.\u001b[39;49m\u001b[43mastype\u001b[49m\u001b[43m(\u001b[49m\u001b[38;5;124;43m\"\u001b[39;49m\u001b[38;5;124;43mfloat\u001b[39;49m\u001b[38;5;124;43m\"\u001b[39;49m\u001b[43m)\u001b[49m\n\u001b[0;32m    444\u001b[0m     \u001b[38;5;66;03m# y[y == 0] = np.nan  # don't show zero values\u001b[39;00m\n",
      "\u001b[1;31mValueError\u001b[0m: could not convert string to float: 'yolov5'",
      "\nDuring handling of the above exception, another exception occurred:\n",
      "\u001b[1;31mNameError\u001b[0m                                 Traceback (most recent call last)",
      "Cell \u001b[1;32mIn[3], line 1\u001b[0m\n\u001b[1;32m----> 1\u001b[0m \u001b[43mplot_results\u001b[49m\u001b[43m(\u001b[49m\u001b[43mfile\u001b[49m\u001b[38;5;241;43m=\u001b[39;49m\u001b[38;5;124;43m'\u001b[39;49m\u001b[38;5;124;43m../plots/csv/results.csv\u001b[39;49m\u001b[38;5;124;43m'\u001b[39;49m\u001b[43m)\u001b[49m\n",
      "File \u001b[1;32md:\\GitHub\\DeepShadow\\plots\\plots.py:455\u001b[0m, in \u001b[0;36mplot_results\u001b[1;34m(file, dir)\u001b[0m\n\u001b[0;32m    452\u001b[0m             \u001b[38;5;66;03m# if j in [8, 9, 10]:  # share train and val loss y axes\u001b[39;00m\n\u001b[0;32m    453\u001b[0m             \u001b[38;5;66;03m#     ax[i].get_shared_y_axes().join(ax[i], ax[i - 5])\u001b[39;00m\n\u001b[0;32m    454\u001b[0m     \u001b[38;5;28;01mexcept\u001b[39;00m \u001b[38;5;167;01mException\u001b[39;00m \u001b[38;5;28;01mas\u001b[39;00m e:\n\u001b[1;32m--> 455\u001b[0m         \u001b[43mLOGGER\u001b[49m\u001b[38;5;241m.\u001b[39minfo(\u001b[38;5;124mf\u001b[39m\u001b[38;5;124m\"\u001b[39m\u001b[38;5;124mWarning: Plotting error for \u001b[39m\u001b[38;5;132;01m{\u001b[39;00mf\u001b[38;5;132;01m}\u001b[39;00m\u001b[38;5;124m: \u001b[39m\u001b[38;5;132;01m{\u001b[39;00me\u001b[38;5;132;01m}\u001b[39;00m\u001b[38;5;124m\"\u001b[39m)\n\u001b[0;32m    456\u001b[0m ax[\u001b[38;5;241m1\u001b[39m]\u001b[38;5;241m.\u001b[39mlegend()\n\u001b[0;32m    457\u001b[0m fig\u001b[38;5;241m.\u001b[39mtight_layout()\n",
      "\u001b[1;31mNameError\u001b[0m: name 'LOGGER' is not defined"
     ]
    }
   ],
   "source": [
    "plot_results(file='../plots/csv/results.csv')"
   ]
  },
  {
   "cell_type": "code",
   "execution_count": null,
   "metadata": {},
   "outputs": [
    {
     "data": {
      "text/plain": [
       "{'epoch': 'epoch',\n",
       " 'train/box_loss': 'box loss',\n",
       " 'train/obj_loss': 'obj loss',\n",
       " 'train/cls_loss': 'class loss',\n",
       " 'metrics/precision': 'precision',\n",
       " 'metrics/recall': 'recall',\n",
       " 'metrics/mAP_0.5': 'mAP$_{[0.5]}$',\n",
       " 'metrics/mAP_0.5:0.95': 'mAP$_{[0.5:0.95]}$',\n",
       " 'val/box_loss': 'box loss',\n",
       " 'val/obj_loss': 'obj loss',\n",
       " 'val/cls_loss': 'class loss',\n",
       " 'x/lr0': 'lr0',\n",
       " 'x/lr1': 'lr1',\n",
       " 'x/lr2': 'lr2'}"
      ]
     },
     "execution_count": 4,
     "metadata": {},
     "output_type": "execute_result"
    }
   ],
   "source": [
    "{'epoch':'epoch',\n",
    " 'train/box_loss': 'box loss',\n",
    " 'train/obj_loss': 'obj loss',\n",
    " 'train/cls_loss': 'class loss',\n",
    " 'metrics/precision': 'precision',\n",
    " 'metrics/recall' : 'recall',\n",
    " 'metrics/mAP_0.5': r'mAP$_{[0.5]}$',\n",
    " 'metrics/mAP_0.5:0.95': r'mAP$_{[0.5:0.95]}$',\n",
    " 'val/box_loss': 'box loss',\n",
    " 'val/obj_loss': 'obj loss',\n",
    " 'val/cls_loss': 'class loss',\n",
    " 'x/lr0': 'lr0',\n",
    " 'x/lr1': 'lr1',\n",
    " 'x/lr2': 'lr2'}"
   ]
  }
 ],
 "metadata": {
  "kernelspec": {
   "display_name": "deepshadow",
   "language": "python",
   "name": "python3"
  },
  "language_info": {
   "codemirror_mode": {
    "name": "ipython",
    "version": 3
   },
   "file_extension": ".py",
   "mimetype": "text/x-python",
   "name": "python",
   "nbconvert_exporter": "python",
   "pygments_lexer": "ipython3",
   "version": "3.9.8"
  }
 },
 "nbformat": 4,
 "nbformat_minor": 2
}
