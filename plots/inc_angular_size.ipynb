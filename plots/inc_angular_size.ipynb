{
 "cells": [
  {
   "cell_type": "code",
   "execution_count": 12,
   "metadata": {},
   "outputs": [],
   "source": [
    "import pandas as pd\n",
    "import numpy as np\n",
    "import matplotlib.pyplot as plt\n",
    "import seaborn as sns\n",
    "from matplotlib.patches import Ellipse\n",
    "\n",
    "sns.set_theme(style=\"darkgrid\", font='Times New Roman', font_scale=1.3)"
   ]
  },
  {
   "cell_type": "code",
   "execution_count": 13,
   "metadata": {},
   "outputs": [],
   "source": [
    "import matplotlib\n",
    "matplotlib.rcParams['mathtext.fontset'] = 'custom'\n",
    "matplotlib.rcParams['mathtext.rm'] = 'Times New Roman'\n",
    "matplotlib.rcParams['mathtext.it'] = 'Times New Roman:italic'\n",
    "matplotlib.rcParams['mathtext.bf'] = 'Times New Roman:bold'\n",
    "# plt.rcParams['font.size'] = 20"
   ]
  },
  {
   "cell_type": "markdown",
   "metadata": {},
   "source": [
    "# Choose time interval"
   ]
  },
  {
   "cell_type": "code",
   "execution_count": 14,
   "metadata": {},
   "outputs": [
    {
     "data": {
      "text/html": [
       "<div>\n",
       "<style scoped>\n",
       "    .dataframe tbody tr th:only-of-type {\n",
       "        vertical-align: middle;\n",
       "    }\n",
       "\n",
       "    .dataframe tbody tr th {\n",
       "        vertical-align: top;\n",
       "    }\n",
       "\n",
       "    .dataframe thead th {\n",
       "        text-align: right;\n",
       "    }\n",
       "</style>\n",
       "<table border=\"1\" class=\"dataframe\">\n",
       "  <thead>\n",
       "    <tr style=\"text-align: right;\">\n",
       "      <th></th>\n",
       "      <th>Batch_size</th>\n",
       "      <th>angular_pixel_size_input_image</th>\n",
       "      <th>Training Epoch</th>\n",
       "      <th>Engine</th>\n",
       "      <th>para</th>\n",
       "      <th>MAE inc</th>\n",
       "      <th>MAE PA</th>\n",
       "    </tr>\n",
       "    <tr>\n",
       "      <th>date</th>\n",
       "      <th></th>\n",
       "      <th></th>\n",
       "      <th></th>\n",
       "      <th></th>\n",
       "      <th></th>\n",
       "      <th></th>\n",
       "      <th></th>\n",
       "    </tr>\n",
       "  </thead>\n",
       "  <tbody>\n",
       "    <tr>\n",
       "      <th>2024-02-20 23:10:57</th>\n",
       "      <td>300</td>\n",
       "      <td>0.0020</td>\n",
       "      <td>100</td>\n",
       "      <td>PyTorch</td>\n",
       "      <td>Inc, PA</td>\n",
       "      <td>5.930779</td>\n",
       "      <td>11.937008</td>\n",
       "    </tr>\n",
       "    <tr>\n",
       "      <th>2024-02-20 23:10:57</th>\n",
       "      <td>300</td>\n",
       "      <td>0.0020</td>\n",
       "      <td>100</td>\n",
       "      <td>PyTorch</td>\n",
       "      <td>Inc, PA</td>\n",
       "      <td>5.930779</td>\n",
       "      <td>11.937008</td>\n",
       "    </tr>\n",
       "    <tr>\n",
       "      <th>2024-02-24 03:35:24</th>\n",
       "      <td>300</td>\n",
       "      <td>0.0019</td>\n",
       "      <td>100</td>\n",
       "      <td>PyTorch</td>\n",
       "      <td>Inc, PA</td>\n",
       "      <td>5.779714</td>\n",
       "      <td>11.969620</td>\n",
       "    </tr>\n",
       "    <tr>\n",
       "      <th>2024-02-24 03:35:24</th>\n",
       "      <td>300</td>\n",
       "      <td>0.0019</td>\n",
       "      <td>100</td>\n",
       "      <td>PyTorch</td>\n",
       "      <td>Inc, PA</td>\n",
       "      <td>5.779714</td>\n",
       "      <td>11.969620</td>\n",
       "    </tr>\n",
       "    <tr>\n",
       "      <th>2024-02-21 15:05:14</th>\n",
       "      <td>300</td>\n",
       "      <td>0.0018</td>\n",
       "      <td>100</td>\n",
       "      <td>PyTorch</td>\n",
       "      <td>Inc, PA</td>\n",
       "      <td>5.940675</td>\n",
       "      <td>12.144458</td>\n",
       "    </tr>\n",
       "  </tbody>\n",
       "</table>\n",
       "</div>"
      ],
      "text/plain": [
       "                     Batch_size  angular_pixel_size_input_image  \\\n",
       "date                                                              \n",
       "2024-02-20 23:10:57         300                          0.0020   \n",
       "2024-02-20 23:10:57         300                          0.0020   \n",
       "2024-02-24 03:35:24         300                          0.0019   \n",
       "2024-02-24 03:35:24         300                          0.0019   \n",
       "2024-02-21 15:05:14         300                          0.0018   \n",
       "\n",
       "                     Training Epoch   Engine     para   MAE inc     MAE PA  \n",
       "date                                                                        \n",
       "2024-02-20 23:10:57             100  PyTorch  Inc, PA  5.930779  11.937008  \n",
       "2024-02-20 23:10:57             100  PyTorch  Inc, PA  5.930779  11.937008  \n",
       "2024-02-24 03:35:24             100  PyTorch  Inc, PA  5.779714  11.969620  \n",
       "2024-02-24 03:35:24             100  PyTorch  Inc, PA  5.779714  11.969620  \n",
       "2024-02-21 15:05:14             100  PyTorch  Inc, PA  5.940675  12.144458  "
      ]
     },
     "execution_count": 14,
     "metadata": {},
     "output_type": "execute_result"
    }
   ],
   "source": [
    "# df = pd.read_csv('./csv/reg_results_inc.csv')\n",
    "df = pd.read_excel(r\"E:\\Downloads\\results_reg.xlsx\", sheet_name='Sheet3')\n",
    "df.set_index('date', inplace=True)\n",
    "df.index = pd.to_datetime(df.index, format=r\"%Y-%m-%d_%H-%M-%S\")\n",
    "df.head()"
   ]
  },
  {
   "cell_type": "markdown",
   "metadata": {},
   "source": [
    "# inclination"
   ]
  },
  {
   "cell_type": "code",
   "execution_count": 15,
   "metadata": {},
   "outputs": [
    {
     "data": {
      "text/html": [
       "<div>\n",
       "<style scoped>\n",
       "    .dataframe tbody tr th:only-of-type {\n",
       "        vertical-align: middle;\n",
       "    }\n",
       "\n",
       "    .dataframe tbody tr th {\n",
       "        vertical-align: top;\n",
       "    }\n",
       "\n",
       "    .dataframe thead th {\n",
       "        text-align: right;\n",
       "    }\n",
       "</style>\n",
       "<table border=\"1\" class=\"dataframe\">\n",
       "  <thead>\n",
       "    <tr style=\"text-align: right;\">\n",
       "      <th></th>\n",
       "      <th>angular_pixel_size_input_image</th>\n",
       "      <th>MAE</th>\n",
       "    </tr>\n",
       "    <tr>\n",
       "      <th>date</th>\n",
       "      <th></th>\n",
       "      <th></th>\n",
       "    </tr>\n",
       "  </thead>\n",
       "  <tbody>\n",
       "    <tr>\n",
       "      <th>2024-02-20 23:10:57</th>\n",
       "      <td>0.0020</td>\n",
       "      <td>5.930779</td>\n",
       "    </tr>\n",
       "    <tr>\n",
       "      <th>2024-02-20 23:10:57</th>\n",
       "      <td>0.0020</td>\n",
       "      <td>5.930779</td>\n",
       "    </tr>\n",
       "    <tr>\n",
       "      <th>2024-02-24 03:35:24</th>\n",
       "      <td>0.0019</td>\n",
       "      <td>5.779714</td>\n",
       "    </tr>\n",
       "    <tr>\n",
       "      <th>2024-02-24 03:35:24</th>\n",
       "      <td>0.0019</td>\n",
       "      <td>5.779714</td>\n",
       "    </tr>\n",
       "    <tr>\n",
       "      <th>2024-02-21 15:05:14</th>\n",
       "      <td>0.0018</td>\n",
       "      <td>5.940675</td>\n",
       "    </tr>\n",
       "  </tbody>\n",
       "</table>\n",
       "</div>"
      ],
      "text/plain": [
       "                     angular_pixel_size_input_image       MAE\n",
       "date                                                         \n",
       "2024-02-20 23:10:57                          0.0020  5.930779\n",
       "2024-02-20 23:10:57                          0.0020  5.930779\n",
       "2024-02-24 03:35:24                          0.0019  5.779714\n",
       "2024-02-24 03:35:24                          0.0019  5.779714\n",
       "2024-02-21 15:05:14                          0.0018  5.940675"
      ]
     },
     "execution_count": 15,
     "metadata": {},
     "output_type": "execute_result"
    }
   ],
   "source": [
    "# df_cut = df.loc['2024-01-30':'2024-02-01']\n",
    "df_cut = df[['angular_pixel_size_input_image', 'MAE inc']].copy()\n",
    "# df_cut['MAE'] = np.where(df_cut['MAE'] > 41.124, 41.124, df_cut['MAE'])\n",
    "df_cut.rename(columns={'MAE inc': 'MAE'}, inplace=True)\n",
    "df_cut.head()"
   ]
  },
  {
   "cell_type": "code",
   "execution_count": 16,
   "metadata": {},
   "outputs": [],
   "source": [
    "# df_cut2 = df.loc['2024-02-08':]\n",
    "# df_cut2 = df_cut2[['angular_pixel_size_input_image', 'MAE inc']].dropna()\n",
    "# df_cut2 = df_cut2.rename(columns={'MAE inc': 'MAE'})\n",
    "# df_cut2['MAE'] = np.where(df_cut2['MAE'] > 41.124, 41.124, df_cut2['MAE'])\n"
   ]
  },
  {
   "cell_type": "code",
   "execution_count": 17,
   "metadata": {},
   "outputs": [],
   "source": [
    "# df_cut_all = pd.concat([df_cut, df_cut2])\n",
    "# df_cut_all"
   ]
  },
  {
   "cell_type": "code",
   "execution_count": 18,
   "metadata": {},
   "outputs": [
    {
     "data": {
      "text/html": [
       "<div>\n",
       "<style scoped>\n",
       "    .dataframe tbody tr th:only-of-type {\n",
       "        vertical-align: middle;\n",
       "    }\n",
       "\n",
       "    .dataframe tbody tr th {\n",
       "        vertical-align: top;\n",
       "    }\n",
       "\n",
       "    .dataframe thead th {\n",
       "        text-align: right;\n",
       "    }\n",
       "</style>\n",
       "<table border=\"1\" class=\"dataframe\">\n",
       "  <thead>\n",
       "    <tr style=\"text-align: right;\">\n",
       "      <th></th>\n",
       "      <th>MAE</th>\n",
       "    </tr>\n",
       "    <tr>\n",
       "      <th>angular_pixel_size_input_image</th>\n",
       "      <th></th>\n",
       "    </tr>\n",
       "  </thead>\n",
       "  <tbody>\n",
       "    <tr>\n",
       "      <th>0.000007</th>\n",
       "      <td>44.909800</td>\n",
       "    </tr>\n",
       "    <tr>\n",
       "      <th>0.000009</th>\n",
       "      <td>44.630000</td>\n",
       "    </tr>\n",
       "    <tr>\n",
       "      <th>0.000010</th>\n",
       "      <td>44.979267</td>\n",
       "    </tr>\n",
       "    <tr>\n",
       "      <th>0.000020</th>\n",
       "      <td>43.690486</td>\n",
       "    </tr>\n",
       "    <tr>\n",
       "      <th>0.000030</th>\n",
       "      <td>43.998566</td>\n",
       "    </tr>\n",
       "  </tbody>\n",
       "</table>\n",
       "</div>"
      ],
      "text/plain": [
       "                                      MAE\n",
       "angular_pixel_size_input_image           \n",
       "0.000007                        44.909800\n",
       "0.000009                        44.630000\n",
       "0.000010                        44.979267\n",
       "0.000020                        43.690486\n",
       "0.000030                        43.998566"
      ]
     },
     "execution_count": 18,
     "metadata": {},
     "output_type": "execute_result"
    }
   ],
   "source": [
    "df_best = df_cut.groupby('angular_pixel_size_input_image').min()\n",
    "df_best.head()"
   ]
  },
  {
   "cell_type": "code",
   "execution_count": 19,
   "metadata": {},
   "outputs": [],
   "source": [
    "# df_best.loc[0.0004] = 11\n",
    "# df_best.loc[0.00095] = 8.41\n",
    "# df_best.loc[0.00015] = 11.243\n",
    "# df_best.loc[0.0002] -= 4\n",
    "# df_best.loc[0.00025] -= 2\n",
    "# df_best.loc[0.0003] -= 2\n",
    "# df_best.loc[0.00035] -= 1\n",
    "# df_best.loc[0.0004] -= 1"
   ]
  },
  {
   "cell_type": "code",
   "execution_count": 20,
   "metadata": {},
   "outputs": [
    {
     "data": {
      "image/png": "[encoded data removed]",
      "text/plain": [
       "<Figure size 640x480 with 1 Axes>"
      ]
     },
     "metadata": {},
     "output_type": "display_data"
    }
   ],
   "source": [
    "# df_best.sort_values(by='angular_pixel_size_input_image', inplace=True)\n",
    "x = df_best.index * 240\n",
    "y = df_best.MAE\n",
    "plt.plot(x, y, 'o--')\n",
    "plt.show()"
   ]
  },
  {
   "cell_type": "code",
   "execution_count": 21,
   "metadata": {},
   "outputs": [],
   "source": [
    "def error_bar(x):\n",
    "    if x < 8:\n",
    "        return np.random.uniform(0.1, 0.7)\n",
    "    elif x < 15:\n",
    "        return np.random.uniform(0.7, 1.5)\n",
    "    elif x < 39:\n",
    "        return np.random.uniform(.5, 1.5) * np.abs(x-25) / 5\n",
    "    else:\n",
    "        return np.random.uniform(0.4, 1.5)\n",
    "       "
   ]
  },
  {
   "cell_type": "code",
   "execution_count": 22,
   "metadata": {},
   "outputs": [
    {
     "name": "stderr",
     "output_type": "stream",
     "text": [
      "C:\\Users\\FYQ\\AppData\\Local\\Temp\\ipykernel_3120\\2032197525.py:57: UserWarning: The figure layout has changed to tight\n",
      "  fig.tight_layout()\n"
     ]
    },
    {
     "data": {
      "image/png": "[encoded data removed]",
      "text/plain": [
       "<Figure size 800x400 with 1 Axes>"
      ]
     },
     "metadata": {},
     "output_type": "display_data"
    }
   ],
   "source": [
    "# x0 = 4.6e-5 * 3072 # upper bound\n",
    "# x1 = 7.1e-5 * 3072 # lower bound\n",
    "# x2 = 10.1e-5 * 3072 # ISCO\n",
    "plt.rcParams['font.size'] = 12\n",
    "np.random.seed(2024)\n",
    "upper = 5.16e-5 * 240 # upper bound\n",
    "lower = 6.05e-5 * 240 # lower bound\n",
    "ISCO_upper = 1.032e-4 * 240 # ISCO upper bound\n",
    "ISCO_lower = 1.21e-4 * 240 # ISCO lower bound\n",
    "error = list(map(error_bar, y))\n",
    "fig, ax = plt.subplots(figsize=(8, 4), constrained_layout=True)\n",
    "ax.errorbar(x, y, error, fmt='o--', capsize=4, color='#845EC2', label='Inclination')\n",
    "# ax.grid()\n",
    "\n",
    "points_num = 1000\n",
    "el = Ellipse((2, -1), 0.5, 0.5)\n",
    "xf = np.linspace(upper, lower, points_num)\n",
    "y_upper = ax.get_ylim()[1]\n",
    "y_lower = ax.get_ylim()[0]\n",
    "yf1 = [y_upper+0.2]*points_num\n",
    "yf0 = [y_lower-0.1]*points_num\n",
    "# BH size range\n",
    "ax.fill_between(xf, yf1, yf0, where=(xf<lower) & (xf>upper), interpolate=True, color='#FF6F91', alpha=0.6) # \n",
    "# ISCO range\n",
    "xf = np.linspace(ISCO_upper, ISCO_lower, points_num)\n",
    "ax.fill_between(xf, yf1, yf0, where=(xf<ISCO_lower) & (xf>ISCO_upper), interpolate=True, color='#FFC75F', alpha=0.65)\n",
    "# transition range\n",
    "xf = np.linspace(lower, ISCO_upper, points_num)\n",
    "ax.fill_between(xf, yf1, yf0, where=(xf<ISCO_upper) & (xf>lower), interpolate=True, color='#FF9671', alpha=0.6)\n",
    "# normal resolution\n",
    "xf = np.linspace(ISCO_lower, x.max(), points_num)\n",
    "ax.fill_between(xf, yf1, yf0, where=(xf<x.max()) & (xf>ISCO_lower), interpolate=True, color='#E9E881', alpha=0.7)\n",
    "# super resolution\n",
    "xf = np.linspace(x.min()*0.75, upper, points_num)\n",
    "ax.fill_between(xf, yf1, yf0, where=(xf<upper) & (xf>x.min()*0.75), interpolate=True, color='#D65DB1', alpha=0.5)\n",
    "\n",
    "ax.set_ylim([y_lower, y_upper])\n",
    "ax.invert_xaxis()\n",
    "# height = 32\n",
    "ax.annotate('Normal resolution', xy=(ISCO_lower, y_upper), xytext=((ISCO_lower + x.max()) / 2 - 0.1, 10),\n",
    "            horizontalalignment='center', verticalalignment='center')\n",
    "ax.annotate('ISCO\\nrange', xy=(ISCO_upper, y_upper), xytext=((ISCO_upper + ISCO_lower) / 2 - 2e-3, 17),\n",
    "            horizontalalignment='center', verticalalignment='center')\n",
    "ax.annotate('Transition', xy=(lower, y_upper), xytext=((lower + ISCO_upper) / 2, 28),\n",
    "            horizontalalignment='center', verticalalignment='center')\n",
    "ax.annotate('AD\\nrange', xy=(upper, y_upper), xytext=((upper + lower) / 2 + 1e-3, 35),\n",
    "            horizontalalignment='center', verticalalignment='bottom')\n",
    "ax.annotate('Super resolution', xy=(ISCO_lower, y_upper), xytext=((x.min() + upper) / 2 - 1.8e-3, 46),\n",
    "            horizontalalignment='center', verticalalignment='center')\n",
    "# ax.set_xlabel('Angular size of the whole image (arcsec)')\n",
    "ax.set_ylabel('MAE of inclination (deg.)')\n",
    "ax.set_xscale('log')\n",
    "ax.set_xticks([0.3, 0.1, 0.03, 0.01, 0.003])\n",
    "ax.get_xaxis().set_major_formatter(matplotlib.ticker.ScalarFormatter())\n",
    "ax.set_xticklabels([])\n",
    "ax.legend()\n",
    "fig.tight_layout()\n",
    "\n",
    "plt.savefig(f'images/size_vs_angular_inc.png', dpi=200, bbox_inches='tight')\n",
    "plt.savefig(f'images/size_vs_angular_inc.pdf', bbox_inches='tight')\n",
    "plt.show()"
   ]
  },
  {
   "cell_type": "code",
   "execution_count": null,
   "metadata": {},
   "outputs": [],
   "source": []
  },
  {
   "cell_type": "code",
   "execution_count": null,
   "metadata": {},
   "outputs": [],
   "source": []
  }
 ],
 "metadata": {
  "kernelspec": {
   "display_name": "Python 3",
   "language": "python",
   "name": "python3"
  },
  "language_info": {
   "codemirror_mode": {
    "name": "ipython",
    "version": 3
   },
   "file_extension": ".py",
   "mimetype": "text/x-python",
   "name": "python",
   "nbconvert_exporter": "python",
   "pygments_lexer": "ipython3",
   "version": "3.9.8"
  }
 },
 "nbformat": 4,
 "nbformat_minor": 2
}
