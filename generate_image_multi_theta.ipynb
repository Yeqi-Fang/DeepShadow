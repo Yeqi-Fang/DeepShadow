{
 "cells": [
  {
   "cell_type": "code",
   "execution_count": 9,
   "metadata": {},
   "outputs": [],
   "source": [
    "from pathlib import Path\n",
    "import cv2\n",
    "import numpy as np\n",
    "import matplotlib.pyplot as plt"
   ]
  },
  {
   "cell_type": "code",
   "execution_count": 10,
   "metadata": {},
   "outputs": [
    {
     "name": "stdout",
     "output_type": "stream",
     "text": [
      "tele_datasets\\Changing\\num10_rect_wl1.000e-07_D6.50_F131.4_AS5.00e-04_BHSize30-50\n",
      "tele_datasets\\Changing\\num10_rect_wl1.000e-07_D6.50_F131.4_AS5.50e-04_BHSize30-50\n",
      "tele_datasets\\Changing\\num10_rect_wl1.000e-07_D6.50_F131.4_AS6.00e-04_BHSize30-50\n",
      "tele_datasets\\Changing\\num10_rect_wl1.000e-07_D6.50_F131.4_AS6.50e-04_BHSize30-50\n",
      "tele_datasets\\Changing\\num10_rect_wl1.000e-07_D6.50_F131.4_AS7.00e-04_BHSize30-50\n",
      "tele_datasets\\Changing\\num10_rect_wl1.000e-07_D6.50_F131.4_AS7.50e-04_BHSize30-50\n",
      "tele_datasets\\Changing\\num10_rect_wl1.000e-07_D6.50_F131.4_AS8.00e-04_BHSize30-50\n",
      "tele_datasets\\Changing\\num10_rect_wl1.000e-07_D6.50_F131.4_AS8.50e-04_BHSize30-50\n",
      "tele_datasets\\Changing\\num10_rect_wl1.000e-07_D6.50_F131.4_AS9.00e-04_BHSize30-50\n",
      "tele_datasets\\Changing\\num10_rect_wl1.000e-07_D6.50_F131.4_AS9.50e-04_BHSize30-50\n"
     ]
    }
   ],
   "source": [
    "root_dir = Path('tele_datasets\\Changing')\n",
    "\n",
    "output_dir = Path('tele_datasets\\mixed')\n",
    "noise_radius = 20\n",
    "for i in root_dir.iterdir():\n",
    "    print(i)"
   ]
  },
  {
   "cell_type": "code",
   "execution_count": 11,
   "metadata": {},
   "outputs": [
    {
     "data": {
      "text/plain": [
       "True"
      ]
     },
     "execution_count": 11,
     "metadata": {},
     "output_type": "execute_result"
    }
   ],
   "source": [
    "thetas = list(root_dir.iterdir())\n",
    "theta_len = len(thetas)\n",
    "\n",
    "output_image = np.zeros((1024, 1024), dtype=np.uint8)\n",
    "\n",
    "for i in thetas:\n",
    "    image_dir = i / 'images'\n",
    "    image_lst = list(image_dir.iterdir())\n",
    "    # randomly choose one\n",
    "    image_path = np.random.choice(image_lst)\n",
    "    # print(image_path)\n",
    "    image_arr = cv2.imread(image_path.as_posix(), cv2.IMREAD_GRAYSCALE)\n",
    "    # print(image_path)\n",
    "    output_image += image_arr\n",
    "\n",
    "# add noise\n",
    "output_image = output_image.astype(np.int64)\n",
    "noise_radius = np.random.randint(10, 30)\n",
    "noise1 = np.random.normal(loc=0, scale=noise_radius, size=(1024, 1024))\n",
    "noise2 = np.random.normal(loc=0, scale=noise_radius / 4, size=(512, 512))\n",
    "noise2 = cv2.resize(noise2, (1024, 1024))\n",
    "noisy_img = output_image + noise1 + noise2\n",
    "noisy_img = np.where(noisy_img > 255, 255, noisy_img)\n",
    "noisy_img = np.where(noisy_img < 0, 0, noisy_img)\n",
    "noisy_img = noisy_img.astype(np.uint8)\n",
    "\n",
    "cv2.imwrite((output_dir / image_path.name).as_posix(), noisy_img)\n"
   ]
  },
  {
   "cell_type": "code",
   "execution_count": 12,
   "metadata": {},
   "outputs": [],
   "source": [
    "# plt.imshow(output_image, cmap='gray')"
   ]
  }
 ],
 "metadata": {
  "kernelspec": {
   "display_name": "normal",
   "language": "python",
   "name": "python3"
  },
  "language_info": {
   "codemirror_mode": {
    "name": "ipython",
    "version": 3
   },
   "file_extension": ".py",
   "mimetype": "text/x-python",
   "name": "python",
   "nbconvert_exporter": "python",
   "pygments_lexer": "ipython3",
   "version": "3.9.19"
  }
 },
 "nbformat": 4,
 "nbformat_minor": 2
}
