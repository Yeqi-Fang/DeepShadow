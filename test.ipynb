{
 "cells": [
  {
   "cell_type": "code",
   "execution_count": 2,
   "metadata": {},
   "outputs": [
    {
     "data": {
      "text/plain": [
       "('23h44m56.761s +10d48m57.335s',\n",
       " <Angle 8.116 arcmin>,\n",
       " <Angle 4.61083333 arcmin>)"
      ]
     },
     "execution_count": 2,
     "metadata": {},
     "output_type": "execute_result"
    }
   ],
   "source": [
    "from astropy.coordinates import SkyCoord\n",
    "import astropy.units as u\n",
    "\n",
    "# Define the coordinates of the corners\n",
    "top_left = SkyCoord('23h45m12.993s +10d51m15.66s', frame='icrs')\n",
    "bottom_right = SkyCoord('23h44m40.529s +10d46m39.01s', frame='icrs')\n",
    "\n",
    "# Calculate the center position\n",
    "center_ra = (top_left.ra + bottom_right.ra) / 2\n",
    "center_dec = (top_left.dec + bottom_right.dec) / 2\n",
    "center = SkyCoord(ra=center_ra, dec=center_dec)\n",
    "\n",
    "# Calculate the field of view size\n",
    "fov_ra = abs(top_left.ra - bottom_right.ra)\n",
    "fov_dec = abs(top_left.dec - bottom_right.dec)\n",
    "\n",
    "(center.to_string('hmsdms'), fov_ra.to(u.arcmin), fov_dec.to(u.arcmin))\n"
   ]
  }
 ],
 "metadata": {
  "kernelspec": {
   "display_name": "normal",
   "language": "python",
   "name": "python3"
  },
  "language_info": {
   "codemirror_mode": {
    "name": "ipython",
    "version": 3
   },
   "file_extension": ".py",
   "mimetype": "text/x-python",
   "name": "python",
   "nbconvert_exporter": "python",
   "pygments_lexer": "ipython3",
   "version": "3.9.19"
  }
 },
 "nbformat": 4,
 "nbformat_minor": 2
}
